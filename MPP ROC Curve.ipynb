{
 "cells": [
  {
   "cell_type": "markdown",
   "metadata": {},
   "source": [
    "Links to other notebooks in the same folder:\n",
    "<a href='http://pivotal.io/data-science'><img src='https://raw.githubusercontent.com/crawles/Logos/master/Pivotal_TealOnWhite.png' width='200px' align='right'></a>\n",
    "\n",
    "<nav class = \"navbar navbar-light bg-faded\">\n",
    "    <ul class = \"nav navbar-nav\">\n",
    "        <li class = \"\">\n",
    "            <a class = \"nav-link\">notebook1</a>\n",
    "        </li>\n",
    "        <li class = \"\">\n",
    "            <a class = \"nav-link\">notebook2</a>\n",
    "        </li>\n",
    "        <li class = \"\">\n",
    "            <a class = \"nav-link\">notebook3</a>\n",
    "        </li>\n",
    "        "
   ]
  },
  {
   "cell_type": "markdown",
   "metadata": {
    "toc": "true"
   },
   "source": [
    "# Table of Contents\n",
    " <p><div class=\"lev1 toc-item\"><a href=\"#Import-useful-libraries\" data-toc-modified-id=\"Import-useful-libraries-1\"><span class=\"toc-item-num\">1&nbsp;&nbsp;</span>Import useful libraries</a></div><div class=\"lev1 toc-item\"><a href=\"#Connect-to-Database\" data-toc-modified-id=\"Connect-to-Database-2\"><span class=\"toc-item-num\">2&nbsp;&nbsp;</span>Connect to Database</a></div><div class=\"lev1 toc-item\"><a href=\"#Define-magic-functions---helpful-for-interacting-with-cluster\" data-toc-modified-id=\"Define-magic-functions---helpful-for-interacting-with-cluster-3\"><span class=\"toc-item-num\">3&nbsp;&nbsp;</span>Define magic functions - helpful for interacting with cluster</a></div><div class=\"lev1 toc-item\"><a href=\"#Autofill-Table-Names\" data-toc-modified-id=\"Autofill-Table-Names-4\"><span class=\"toc-item-num\">4&nbsp;&nbsp;</span>Autofill Table Names</a></div><div class=\"lev1 toc-item\"><a href=\"#Create-Fake-Data\" data-toc-modified-id=\"Create-Fake-Data-5\"><span class=\"toc-item-num\">5&nbsp;&nbsp;</span>Create Fake Data</a></div>"
   ]
  },
  {
   "cell_type": "markdown",
   "metadata": {},
   "source": [
    "# Import useful libraries"
   ]
  },
  {
   "cell_type": "code",
   "execution_count": 1,
   "metadata": {
    "ExecuteTime": {
     "end_time": "2016-11-22T17:25:12.581696",
     "start_time": "2016-11-22T17:25:10.852773"
    },
    "collapsed": false
   },
   "outputs": [
    {
     "name": "stderr",
     "output_type": "stream",
     "text": [
      "/Users/gregorytam/anaconda/lib/python2.7/site-packages/matplotlib/font_manager.py:273: UserWarning: Matplotlib is building the font cache using fc-list. This may take a moment.\n",
      "  warnings.warn('Matplotlib is building the font cache using fc-list. This may take a moment.')\n"
     ]
    }
   ],
   "source": [
    "from datetime import datetime\n",
    "from dateutil.relativedelta import relativedelta\n",
    "import getopt\n",
    "import os\n",
    "import sys\n",
    "import urllib\n",
    "\n",
    "from IPython.core.display import display, HTML\n",
    "from IPython.core.magic import register_cell_magic, register_line_cell_magic, register_line_magic\n",
    "# If we want to move the graph\n",
    "# %matplotlib notebook\n",
    "%matplotlib inline\n",
    "import matplotlib as mpl\n",
    "import matplotlib.pyplot as plt\n",
    "import numpy as np\n",
    "import pandas as pd\n",
    "import pandas.io.sql as psql\n",
    "import psycopg2\n",
    "import seaborn as sns\n",
    "\n",
    "# Credentials file to connect to database\n",
    "import credentials\n",
    "from mpp_plotting_functions import *\n",
    "from sql_functions import *"
   ]
  },
  {
   "cell_type": "code",
   "execution_count": 2,
   "metadata": {
    "ExecuteTime": {
     "end_time": "2016-11-22T17:25:13.067593",
     "start_time": "2016-11-22T17:25:12.583440"
    },
    "collapsed": false
   },
   "outputs": [
    {
     "data": {
      "text/html": [
       "<script>logo = document.getElementById(\"kernel_logo_widget\").getElementsByClassName(\"current_kernel_logo\")[0];\n",
       "logo.src = \"https://github.com/crawles/Logos/blob/master/Pivotal_Python_138x40.png?raw=true\";\n",
       "logo.style = \"display: inline; width:138px; height:40px\";\n",
       "logo.innerHTML = '<a href=\"http://pivotal.io/data-science\">' + logo.innerHTML + '</a>';\n",
       "</script>"
      ],
      "text/plain": [
       "<IPython.core.display.HTML object>"
      ]
     },
     "execution_count": 2,
     "metadata": {},
     "output_type": "execute_result"
    }
   ],
   "source": [
    "# Changes logo to a Pivotal logo\n",
    "jPrefs = urllib.urlopen(\"https://raw.githubusercontent.com/crawles/Logos/master/jupyterPrefs.js\").read()\n",
    "HTML('<script>{}</script>'.format(jPrefs))"
   ]
  },
  {
   "cell_type": "code",
   "execution_count": 3,
   "metadata": {
    "ExecuteTime": {
     "end_time": "2016-11-22T17:25:13.108866",
     "start_time": "2016-11-22T17:25:13.069962"
    },
    "collapsed": false
   },
   "outputs": [
    {
     "data": {
      "text/html": [
       "<style>.container {width:80% !important;}</style>"
      ],
      "text/plain": [
       "<IPython.core.display.HTML object>"
      ]
     },
     "metadata": {},
     "output_type": "display_data"
    }
   ],
   "source": [
    "# Set default cell width\n",
    "display(HTML('<style>.container {width:80% !important;}</style>'))\n",
    "\n",
    "# Set default matplotlib settings\n",
    "mpl.rcParams['figure.figsize'] = (10, 7)\n",
    "mpl.rcParams['lines.linewidth'] = 3\n",
    "mpl.rcParams['figure.titlesize'] = 26\n",
    "mpl.rcParams['axes.labelsize'] = 18\n",
    "mpl.rcParams['axes.titlesize'] = 22\n",
    "mpl.rcParams['xtick.labelsize'] = 14\n",
    "mpl.rcParams['ytick.labelsize'] = 14\n",
    "mpl.rcParams['legend.fontsize'] = 16\n",
    "\n",
    "# Set Seaborn Colours\n",
    "blue, green, red, purple, yellow, cyan = sns.color_palette()"
   ]
  },
  {
   "cell_type": "markdown",
   "metadata": {},
   "source": [
    "# Connect to Database"
   ]
  },
  {
   "cell_type": "code",
   "execution_count": 4,
   "metadata": {
    "ExecuteTime": {
     "end_time": "2016-11-22T17:25:13.199701",
     "start_time": "2016-11-22T17:25:13.110371"
    },
    "collapsed": false
   },
   "outputs": [
    {
     "data": {
      "text/plain": [
       "<cursor object at 0x117450528; closed: 0>"
      ]
     },
     "execution_count": 4,
     "metadata": {},
     "output_type": "execute_result"
    }
   ],
   "source": [
    "conn = psycopg2.connect(**credentials.login_info_dict)\n",
    "conn.autocommit = True\n",
    "\n",
    "schema_name = 'template'\n",
    "psql.execute('SET search_path TO {}'.format(schema_name), conn)"
   ]
  },
  {
   "cell_type": "markdown",
   "metadata": {},
   "source": [
    "# Define magic functions - helpful for interacting with cluster"
   ]
  },
  {
   "cell_type": "code",
   "execution_count": 5,
   "metadata": {
    "ExecuteTime": {
     "end_time": "2016-11-22T17:25:13.292310",
     "start_time": "2016-11-22T17:25:13.201349"
    },
    "collapsed": false
   },
   "outputs": [],
   "source": [
    "@register_cell_magic\n",
    "def readsql(line, cell):\n",
    "    \"\"\"\n",
    "    Extract the code in the specific cell (should be valid SQL), \n",
    "    and execute it using the connection object to the backend \n",
    "    database. The resulting pandas DataFrame is rendered inline \n",
    "    below the cell using IPython.display. You'd use this for SELECT.\n",
    "    \n",
    "    Returns a DataFrame with the name specified in the magic\n",
    "    function. If this is not specified, then the DataFrame\n",
    "    is called _df. This also takes in an option \"-h\", followed \n",
    "    by a number. This will show only the specified number of rows\n",
    "    in the DataFrame.\n",
    "    \"\"\"\n",
    "    # Use the global connection object defined above.\n",
    "    global conn\n",
    "    optlist, args = getopt.getopt(line.split(), 'ih:')\n",
    "    optdict = dict(optlist) \n",
    "    # If '-h' tag is specified, set the number of rows to display\n",
    "    if '-h' in optdict:\n",
    "        head_num = int(optdict['-h'])\n",
    "     \n",
    "    split_cell = cell.split('$')\n",
    "    if '-i' not in optdict:\n",
    "        if len(split_cell) > 1:\n",
    "            split_cell[0] = split_cell[0].format(**globals())\n",
    "            split_cell[-1] = split_cell[-1].format(**globals())\n",
    "            cell = '$'.join(split_cell)\n",
    "        elif len(split_cell) == 1:\n",
    "            cell = cell.format(**globals()) \n",
    "    \n",
    "    # If there is more than one table name specified,\n",
    "    # throw an exception.\n",
    "    if len(args) > 1:\n",
    "        raise Exception('More than one table name specified')\n",
    "\n",
    "    elif len(args) == 1:\n",
    "        # If a table name is specified, store it as that\n",
    "        table_name = args[0]\n",
    "        globals()[table_name] = psql.read_sql(cell, conn)\n",
    "        if '-h' in optdict:\n",
    "            # If head_num is not 0, then display rows\n",
    "            if head_num != 0:\n",
    "                display(globals()[table_name].head(int(optdict['-h'])))\n",
    "        else:\n",
    "            display(globals()[table_name])\n",
    "\n",
    "    else:\n",
    "        # Otherwise, call it _df\n",
    "        global _df\n",
    "        _df = psql.read_sql(cell, conn)\n",
    "        if '-h' in optdict:\n",
    "            # If head_num is not 0, then display rows\n",
    "            if head_num != 0:\n",
    "                display(_df.head(head_num))\n",
    "        else:\n",
    "            display(_df)\n",
    "\n",
    "@register_cell_magic\n",
    "def execsql(line, cell):\n",
    "    \"\"\"\n",
    "    Extract the code in the specific cell (should be valid SQL),\n",
    "    and execute it using the connection object to the backend \n",
    "    database. You'd use this for CREATE/UPDATE/DELETE.\n",
    "    \"\"\"\n",
    "    # Use the global connection object defined above.\n",
    "    global conn\n",
    "    optlist, args = getopt.getopt(line.split(), 'ih:')\n",
    "    optdict = dict(optlist)\n",
    "\n",
    "    split_cell = cell.split('$')\n",
    "    if '-i' not in optdict:\n",
    "        if len(split_cell) > 1:\n",
    "            split_cell[0] = split_cell[0].format(**globals())\n",
    "            split_cell[-1] = split_cell[-1].format(**globals())\n",
    "            cell = '$'.join(split_cell)\n",
    "        elif len(split_cell) == 1:\n",
    "            cell = cell.format(**globals())\n",
    "    psql.execute(cell, conn)\n",
    "\n",
    "@register_cell_magic\n",
    "def printsql(line, cell):\n",
    "    \"\"\"\n",
    "    Show the SQL query that will be run.\n",
    "    \"\"\"\n",
    "    optlist, args = getopt.getopt(line.split(), 'ih:')\n",
    "    optdict = dict(optlist)\n",
    "    \n",
    "    split_cell = cell.split('$')\n",
    "    if '-i' not in optdict:\n",
    "        if len(split_cell) > 1:\n",
    "            split_cell[0] = split_cell[0].format(**globals())\n",
    "            split_cell[-1] = split_cell[-1].format(**globals())\n",
    "            cell = '$'.join(split_cell)\n",
    "        elif len(split_cell) == 1:\n",
    "            cell = cell.format(**globals())\n",
    "    print cell\n",
    "\n",
    "# We delete these to avoid name conflicts for automagic to work\n",
    "del execsql, readsql, printsql"
   ]
  },
  {
   "cell_type": "markdown",
   "metadata": {},
   "source": [
    "# Autofill Table Names\n",
    "One downside of interacting with a remote database in Python is that table names will not be imported in. When this is run, it will import all of the schema names as classes and their respective table names as variables. That way, when we type a schema name, we can use tab completion to list out all of its columns."
   ]
  },
  {
   "cell_type": "code",
   "execution_count": 6,
   "metadata": {
    "ExecuteTime": {
     "end_time": "2016-11-22T17:25:13.341589",
     "start_time": "2016-11-22T17:25:13.294028"
    },
    "collapsed": false
   },
   "outputs": [],
   "source": [
    "sql = '''\n",
    "SELECT table_schema, array_agg(table_name::TEXT) AS tables\n",
    "  FROM information_schema.tables\n",
    " GROUP BY table_schema;\n",
    "'''\n",
    "info_df = psql.read_sql(sql, conn)\n",
    "\n",
    "class Schema:\n",
    "    def __init__(self, tables):\n",
    "        for t in tables:\n",
    "            exec('self.{t} = \"{t}\"'.format(t=t))\n",
    "\n",
    "for row in info_df.iterrows():\n",
    "    command = '{s} = Schema({tables})'.format(s=row[1][0], tables=row[1][1])\n",
    "    exec(command)"
   ]
  },
  {
   "cell_type": "markdown",
   "metadata": {},
   "source": [
    "# Create Fake Data"
   ]
  },
  {
   "cell_type": "code",
   "execution_count": 7,
   "metadata": {
    "ExecuteTime": {
     "end_time": "2016-11-22T17:25:13.413684",
     "start_time": "2016-11-22T17:25:13.343229"
    },
    "collapsed": true
   },
   "outputs": [],
   "source": [
    "%%execsql\n",
    "DROP TABLE IF EXISTS roc_data;\n",
    "CREATE TABLE roc_data\n",
    "   AS SELECT random()::INT AS y_true,\n",
    "             random() AS y_score\n",
    "        FROM generate_series(1, 2000);"
   ]
  },
  {
   "cell_type": "code",
   "execution_count": 8,
   "metadata": {
    "ExecuteTime": {
     "end_time": "2016-11-22T17:25:13.461216",
     "start_time": "2016-11-22T17:25:13.415652"
    },
    "collapsed": false
   },
   "outputs": [
    {
     "data": {
      "text/html": [
       "<div>\n",
       "<table border=\"1\" class=\"dataframe\">\n",
       "  <thead>\n",
       "    <tr style=\"text-align: right;\">\n",
       "      <th></th>\n",
       "      <th>y_true</th>\n",
       "      <th>y_score</th>\n",
       "    </tr>\n",
       "  </thead>\n",
       "  <tbody>\n",
       "    <tr>\n",
       "      <th>0</th>\n",
       "      <td>0</td>\n",
       "      <td>0.000996</td>\n",
       "    </tr>\n",
       "    <tr>\n",
       "      <th>1</th>\n",
       "      <td>1</td>\n",
       "      <td>0.001951</td>\n",
       "    </tr>\n",
       "    <tr>\n",
       "      <th>2</th>\n",
       "      <td>1</td>\n",
       "      <td>0.002142</td>\n",
       "    </tr>\n",
       "    <tr>\n",
       "      <th>3</th>\n",
       "      <td>1</td>\n",
       "      <td>0.002322</td>\n",
       "    </tr>\n",
       "    <tr>\n",
       "      <th>4</th>\n",
       "      <td>0</td>\n",
       "      <td>0.002418</td>\n",
       "    </tr>\n",
       "  </tbody>\n",
       "</table>\n",
       "</div>"
      ],
      "text/plain": [
       "   y_true   y_score\n",
       "0       0  0.000996\n",
       "1       1  0.001951\n",
       "2       1  0.002142\n",
       "3       1  0.002322\n",
       "4       0  0.002418"
      ]
     },
     "metadata": {},
     "output_type": "display_data"
    }
   ],
   "source": [
    "%%readsql -h 5 df\n",
    "SELECT *\n",
    "  FROM roc_data\n",
    " ORDER BY y_score;"
   ]
  },
  {
   "cell_type": "code",
   "execution_count": 9,
   "metadata": {
    "ExecuteTime": {
     "end_time": "2016-11-22T17:25:14.342460",
     "start_time": "2016-11-22T17:25:13.462987"
    },
    "collapsed": false
   },
   "outputs": [
    {
     "data": {
      "image/png": "[encoded data removed]",
      "text/plain": [
       "<matplotlib.figure.Figure at 0x117629410>"
      ]
     },
     "metadata": {},
     "output_type": "display_data"
    }
   ],
   "source": [
    "from sklearn.metrics import roc_curve\n",
    "\n",
    "fpr, tpr, thresh = roc_curve(df.y_true, df.y_score)\n",
    "plt.plot(fpr, tpr)\n",
    "plt.tight_layout()"
   ]
  },
  {
   "cell_type": "markdown",
   "metadata": {},
   "source": [
    "We compare this to the ROC curve computed in database."
   ]
  },
  {
   "cell_type": "code",
   "execution_count": 10,
   "metadata": {
    "ExecuteTime": {
     "end_time": "2016-11-22T17:25:14.422960",
     "start_time": "2016-11-22T17:25:14.344476"
    },
    "collapsed": false
   },
   "outputs": [],
   "source": [
    "df = get_roc_values('roc_data', 'y_true', 'y_score', conn)"
   ]
  },
  {
   "cell_type": "code",
   "execution_count": 11,
   "metadata": {
    "ExecuteTime": {
     "end_time": "2016-11-22T17:25:14.694680",
     "start_time": "2016-11-22T17:25:14.424720"
    },
    "collapsed": false
   },
   "outputs": [
    {
     "data": {
      "image/png": "[encoded data removed]",
      "text/plain": [
       "<matplotlib.figure.Figure at 0x117764810>"
      ]
     },
     "metadata": {},
     "output_type": "display_data"
    }
   ],
   "source": [
    "plt.plot(df.fpr, df.tpr)\n",
    "plt.tight_layout()"
   ]
  }
 ],
 "metadata": {
  "anaconda-cloud": {},
  "kernelspec": {
   "display_name": "Python [Root]",
   "language": "python",
   "name": "Python [Root]"
  },
  "language_info": {
   "codemirror_mode": {
    "name": "ipython",
    "version": 2
   },
   "file_extension": ".py",
   "mimetype": "text/x-python",
   "name": "python",
   "nbconvert_exporter": "python",
   "pygments_lexer": "ipython2",
   "version": "2.7.12"
  },
  "nav_menu": {},
  "toc": {
   "navigate_menu": true,
   "number_sections": true,
   "sideBar": true,
   "threshold": 6,
   "toc_cell": true,
   "toc_section_display": "block",
   "toc_window_display": true
  },
  "toc_position": {
   "height": "982px",
   "left": "0px",
   "right": "auto",
   "top": "106px",
   "width": "212px"
  }
 },
 "nbformat": 4,
 "nbformat_minor": 0
}

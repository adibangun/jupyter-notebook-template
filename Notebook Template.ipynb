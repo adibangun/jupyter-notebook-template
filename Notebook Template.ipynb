{
 "cells": [
  {
   "cell_type": "markdown",
   "metadata": {},
   "source": [
    "Links to other notebooks in the same folder:\n",
    "<a href='http://pivotal.io/data-science'><img src='https://raw.githubusercontent.com/crawles/Logos/master/Pivotal_TealOnWhite.png' width='200px' align='right'></a>\n",
    "\n",
    "<nav class = \"navbar navbar-light bg-faded\">\n",
    "    <ul class = \"nav navbar-nav\">\n",
    "        <li class = \"\">\n",
    "            <a class = \"nav-link\">notebook1</a>\n",
    "        </li>\n",
    "        <li class = \"\">\n",
    "            <a class = \"nav-link\">notebook2</a>\n",
    "        </li>\n",
    "        <li class = \"\">\n",
    "            <a class = \"nav-link\">notebook3</a>\n",
    "        </li>\n",
    "        "
   ]
  },
  {
   "cell_type": "markdown",
   "metadata": {},
   "source": [
    "# Import useful libraries"
   ]
  },
  {
   "cell_type": "code",
   "execution_count": 1,
   "metadata": {
    "ExecuteTime": {
     "end_time": "2016-10-25T13:47:20.564723",
     "start_time": "2016-10-25T13:47:18.860723"
    },
    "collapsed": false
   },
   "outputs": [
    {
     "name": "stderr",
     "output_type": "stream",
     "text": [
      "/Users/gregorytam/anaconda/lib/python2.7/site-packages/matplotlib/font_manager.py:273: UserWarning: Matplotlib is building the font cache using fc-list. This may take a moment.\n",
      "  warnings.warn('Matplotlib is building the font cache using fc-list. This may take a moment.')\n"
     ]
    }
   ],
   "source": [
    "from datetime import datetime\n",
    "from dateutil.relativedelta import relativedelta\n",
    "from IPython.core.display import display, HTML\n",
    "import os\n",
    "import sys\n",
    "import urllib\n",
    "\n",
    "# If we want to move the graph\n",
    "# %matplotlib notebook\n",
    "from IPython.core.magic import register_line_magic, register_cell_magic, register_line_cell_magic\n",
    "from IPython.display import display\n",
    "from IPython.display import HTML\n",
    "%matplotlib inline\n",
    "import matplotlib as mpl\n",
    "import matplotlib.pyplot as plt\n",
    "import numpy as np\n",
    "import pandas as pd\n",
    "import pandas.io.sql as psql\n",
    "import psycopg2\n",
    "import seaborn as sns\n",
    "\n",
    "# Credentials file to connect to database\n",
    "import credentials\n",
    "from sql_functions import *"
   ]
  },
  {
   "cell_type": "code",
   "execution_count": 2,
   "metadata": {
    "ExecuteTime": {
     "end_time": "2016-10-25T13:47:20.639090",
     "start_time": "2016-10-25T13:47:20.566449"
    },
    "collapsed": false
   },
   "outputs": [
    {
     "data": {
      "text/html": [
       "<script>logo = document.getElementById(\"kernel_logo_widget\").getElementsByClassName(\"current_kernel_logo\")[0];\n",
       "logo.src = \"https://github.com/crawles/Logos/blob/master/Pivotal_Python_138x40.png?raw=true\";\n",
       "logo.style = \"display: inline; width:138px; height:40px\";\n",
       "logo.innerHTML = '<a href=\"http://pivotal.io/data-science\">' + logo.innerHTML + '</a>';\n",
       "</script>"
      ],
      "text/plain": [
       "<IPython.core.display.HTML object>"
      ]
     },
     "execution_count": 2,
     "metadata": {},
     "output_type": "execute_result"
    }
   ],
   "source": [
    "# Changes logo to a Pivotal logo\n",
    "jPrefs = urllib.urlopen(\"https://raw.githubusercontent.com/crawles/Logos/master/jupyterPrefs.js\").read()\n",
    "HTML('<script>{}</script>'.format(jPrefs))"
   ]
  },
  {
   "cell_type": "code",
   "execution_count": 3,
   "metadata": {
    "ExecuteTime": {
     "end_time": "2016-10-25T13:47:20.674306",
     "start_time": "2016-10-25T13:47:20.641082"
    },
    "collapsed": false
   },
   "outputs": [
    {
     "data": {
      "text/html": [
       "<style>.container {width:80% !important;}</style>"
      ],
      "text/plain": [
       "<IPython.core.display.HTML object>"
      ]
     },
     "metadata": {},
     "output_type": "display_data"
    }
   ],
   "source": [
    "# Set default cell width\n",
    "display(HTML('<style>.container {width:80% !important;}</style>'))\n",
    "\n",
    "# Set default matplotlib settings\n",
    "mpl.rcParams['figure.figsize'] = (22, 8)\n",
    "mpl.rcParams['lines.linewidth'] = 3\n",
    "mpl.rcParams['figure.titlesize'] = 26\n",
    "mpl.rcParams['axes.labelsize'] = 18\n",
    "mpl.rcParams['axes.titlesize'] = 22\n",
    "mpl.rcParams['xtick.labelsize'] = 14\n",
    "mpl.rcParams['ytick.labelsize'] = 14\n",
    "mpl.rcParams['legend.fontsize'] = 16\n",
    "\n",
    "# Set Seaborn Colours\n",
    "blue, green, red, purple, yellow, cyan = sns.color_palette()"
   ]
  },
  {
   "cell_type": "markdown",
   "metadata": {},
   "source": [
    "# Connect to Database"
   ]
  },
  {
   "cell_type": "code",
   "execution_count": 4,
   "metadata": {
    "ExecuteTime": {
     "end_time": "2016-10-25T13:47:20.708370",
     "start_time": "2016-10-25T13:47:20.675693"
    },
    "collapsed": false
   },
   "outputs": [],
   "source": [
    "conn = psycopg2.connect(database=credentials.database,\n",
    "                        user=credentials.user,\n",
    "                        password=credentials.password,\n",
    "                        host=credentials.host\n",
    "                       )\n",
    "conn.autocommit = True"
   ]
  },
  {
   "cell_type": "code",
   "execution_count": 5,
   "metadata": {
    "ExecuteTime": {
     "end_time": "2016-10-25T13:47:20.794754",
     "start_time": "2016-10-25T13:47:20.709933"
    },
    "collapsed": false
   },
   "outputs": [
    {
     "data": {
      "text/plain": [
       "<cursor object at 0x11940f430; closed: 0>"
      ]
     },
     "execution_count": 5,
     "metadata": {},
     "output_type": "execute_result"
    }
   ],
   "source": [
    "schema_name = 'template'\n",
    "psql.execute('SET search_path TO {}'.format(schema_name), conn)"
   ]
  },
  {
   "cell_type": "markdown",
   "metadata": {
    "ExecuteTime": {
     "end_time": "2016-10-04T16:32:23.703993",
     "start_time": "2016-10-04T16:32:23.693514"
    }
   },
   "source": [
    "# Define magic functions - helpful for interacting with cluster"
   ]
  },
  {
   "cell_type": "code",
   "execution_count": 6,
   "metadata": {
    "ExecuteTime": {
     "end_time": "2016-10-25T13:47:20.958756",
     "start_time": "2016-10-25T13:47:20.917174"
    },
    "collapsed": false
   },
   "outputs": [],
   "source": [
    "@register_cell_magic\n",
    "def readsql(line, cell):\n",
    "    \"\"\"\n",
    "    Extract the code in the specific cell (should be valid SQL), \n",
    "    and execute it using the connection object to the backend \n",
    "    database. The resulting pandas DataFrame is rendered inline \n",
    "    below the cell using IPython.display. You'd use this for SELECT.\n",
    "    \n",
    "    Returns a DataFrame with the name specified in the magic\n",
    "    function. If this is not specified, then the DataFrame\n",
    "    is called _df.\n",
    "    \"\"\"\n",
    "    # Use the global connection object defined above.\n",
    "    global conn\n",
    "    table_name = line\n",
    "    # If there is more than one table name specified,\n",
    "    # throw an exception.\n",
    "    if len(table_name.split()) > 1:\n",
    "        raise Exception('More than one table name specified')\n",
    "\n",
    "    if len(table_name.split()) > 0:\n",
    "        # If a table name is specified, store it as that\n",
    "        globals()[table_name] = psql.read_sql(cell.format(**globals()), conn)\n",
    "        display(globals()[table_name])\n",
    "\n",
    "    else:\n",
    "        # Otherwise, call it _df\n",
    "        global _df\n",
    "        _df = psql.read_sql(cell.format(**globals()), conn)\n",
    "        display(_df)\n",
    "\n",
    "    \n",
    "@register_cell_magic\n",
    "def execsql(line, cell):\n",
    "    \"\"\"\n",
    "    Extract the code in the specific cell (should be valid SQL),\n",
    "    and execute it using the connection object to the backend \n",
    "    database. You'd use this for CREATE/UPDATE/DELETE.\n",
    "    \"\"\"\n",
    "    # Use the global connection object defined above.\n",
    "    global conn\n",
    "    psql.execute(cell.format(**globals()), conn)\n",
    "\n",
    "# We delete these to avoid name conflicts for automagic to work\n",
    "del execsql, readsql"
   ]
  },
  {
   "cell_type": "markdown",
   "metadata": {},
   "source": [
    "# Autofill Table Names\n",
    "One downside of interacting with a remote database in Python is that table names will not be imported in. When this is run, it will import all of the schema names as classes and their respective table names as variables. That way, when we type a schema name, we can use tab completion to list out all of its columns."
   ]
  },
  {
   "cell_type": "code",
   "execution_count": 7,
   "metadata": {
    "ExecuteTime": {
     "end_time": "2016-10-25T13:47:21.768809",
     "start_time": "2016-10-25T13:47:21.716732"
    },
    "collapsed": false
   },
   "outputs": [],
   "source": [
    "sql = '''\n",
    "SELECT table_schema, array_agg(table_name::TEXT) AS tables\n",
    "  FROM information_schema.tables\n",
    " GROUP BY table_schema;\n",
    "'''\n",
    "info_df = psql.read_sql(sql, conn)\n",
    "\n",
    "class Schema:\n",
    "    def __init__(self, tables):\n",
    "        for t in tables:\n",
    "            exec('self.{t} = \"{t}\"'.format(t=t))\n",
    "\n",
    "for row in info_df.iterrows():\n",
    "    command = '{s} = Schema({tables})'.format(s=row[1][0], tables=row[1][1])\n",
    "    exec(command)"
   ]
  },
  {
   "cell_type": "markdown",
   "metadata": {},
   "source": [
    "# Examples"
   ]
  },
  {
   "cell_type": "markdown",
   "metadata": {},
   "source": [
    "## Create Tables\n",
    "Here we can create tables in SQL simply by using a SQL command and putting <code>%%execsql</code> at the very top of the cell."
   ]
  },
  {
   "cell_type": "code",
   "execution_count": 8,
   "metadata": {
    "ExecuteTime": {
     "end_time": "2016-10-25T13:47:23.026860",
     "start_time": "2016-10-25T13:47:22.988641"
    },
    "collapsed": true
   },
   "outputs": [],
   "source": [
    "%%execsql\n",
    "DROP TABLE IF EXISTS example_data_table;\n",
    "CREATE TABLE example_data_table\n",
    "   AS SELECT 1 AS col1,\n",
    "             2 AS col2, \n",
    "             3 AS col3;\n",
    "            \n",
    "DROP TABLE IF EXISTS other_table;\n",
    "CREATE TABLE other_table\n",
    "   AS SELECT 1;"
   ]
  },
  {
   "cell_type": "markdown",
   "metadata": {},
   "source": [
    "Now we can check how autocomplete works:\n",
    "\n",
    "<img src='autofill.png' width= 300px align='left'>"
   ]
  },
  {
   "cell_type": "markdown",
   "metadata": {},
   "source": [
    "Try it by typing \"<code>template.</code>\" below then pressing tab"
   ]
  },
  {
   "cell_type": "code",
   "execution_count": null,
   "metadata": {
    "collapsed": true
   },
   "outputs": [],
   "source": [
    "template."
   ]
  },
  {
   "cell_type": "markdown",
   "metadata": {},
   "source": [
    "## Viewing a Table\n",
    "We can now view one of the tables that we just created."
   ]
  },
  {
   "cell_type": "code",
   "execution_count": 9,
   "metadata": {
    "ExecuteTime": {
     "end_time": "2016-10-25T13:47:25.988740",
     "start_time": "2016-10-25T13:47:25.950131"
    },
    "collapsed": false
   },
   "outputs": [
    {
     "data": {
      "text/html": [
       "<div>\n",
       "<table border=\"1\" class=\"dataframe\">\n",
       "  <thead>\n",
       "    <tr style=\"text-align: right;\">\n",
       "      <th></th>\n",
       "      <th>col1</th>\n",
       "      <th>col2</th>\n",
       "      <th>col3</th>\n",
       "    </tr>\n",
       "  </thead>\n",
       "  <tbody>\n",
       "    <tr>\n",
       "      <th>0</th>\n",
       "      <td>1</td>\n",
       "      <td>2</td>\n",
       "      <td>3</td>\n",
       "    </tr>\n",
       "  </tbody>\n",
       "</table>\n",
       "</div>"
      ],
      "text/plain": [
       "   col1  col2  col3\n",
       "0     1     2     3"
      ]
     },
     "metadata": {},
     "output_type": "display_data"
    }
   ],
   "source": [
    "%%readsql\n",
    "SELECT *\n",
    "  FROM example_data_table;"
   ]
  },
  {
   "cell_type": "markdown",
   "metadata": {},
   "source": [
    "By default, this will store the resulting pandas DataFrame into a variable called <code>_df</code>."
   ]
  },
  {
   "cell_type": "code",
   "execution_count": 10,
   "metadata": {
    "ExecuteTime": {
     "end_time": "2016-10-25T13:47:27.208467",
     "start_time": "2016-10-25T13:47:27.172564"
    },
    "collapsed": false
   },
   "outputs": [
    {
     "data": {
      "text/html": [
       "<div>\n",
       "<table border=\"1\" class=\"dataframe\">\n",
       "  <thead>\n",
       "    <tr style=\"text-align: right;\">\n",
       "      <th></th>\n",
       "      <th>col1</th>\n",
       "      <th>col2</th>\n",
       "      <th>col3</th>\n",
       "    </tr>\n",
       "  </thead>\n",
       "  <tbody>\n",
       "    <tr>\n",
       "      <th>0</th>\n",
       "      <td>1</td>\n",
       "      <td>2</td>\n",
       "      <td>3</td>\n",
       "    </tr>\n",
       "  </tbody>\n",
       "</table>\n",
       "</div>"
      ],
      "text/plain": [
       "   col1  col2  col3\n",
       "0     1     2     3"
      ]
     },
     "execution_count": 10,
     "metadata": {},
     "output_type": "execute_result"
    }
   ],
   "source": [
    "_df"
   ]
  },
  {
   "cell_type": "markdown",
   "metadata": {},
   "source": [
    "## Using Variable Table Names"
   ]
  },
  {
   "cell_type": "markdown",
   "metadata": {
    "ExecuteTime": {
     "end_time": "2016-10-25T13:14:20.658598",
     "start_time": "2016-10-25T13:14:20.628562"
    }
   },
   "source": [
    "We can also use variable table or column names in our commands."
   ]
  },
  {
   "cell_type": "code",
   "execution_count": 11,
   "metadata": {
    "ExecuteTime": {
     "end_time": "2016-10-25T13:47:28.777944",
     "start_time": "2016-10-25T13:47:28.748457"
    },
    "collapsed": true
   },
   "outputs": [],
   "source": [
    "table_name = 'example_data_table'"
   ]
  },
  {
   "cell_type": "code",
   "execution_count": 12,
   "metadata": {
    "ExecuteTime": {
     "end_time": "2016-10-25T13:47:29.126607",
     "start_time": "2016-10-25T13:47:29.090019"
    },
    "collapsed": false
   },
   "outputs": [
    {
     "data": {
      "text/html": [
       "<div>\n",
       "<table border=\"1\" class=\"dataframe\">\n",
       "  <thead>\n",
       "    <tr style=\"text-align: right;\">\n",
       "      <th></th>\n",
       "      <th>col1</th>\n",
       "      <th>col2</th>\n",
       "      <th>col3</th>\n",
       "    </tr>\n",
       "  </thead>\n",
       "  <tbody>\n",
       "    <tr>\n",
       "      <th>0</th>\n",
       "      <td>1</td>\n",
       "      <td>2</td>\n",
       "      <td>3</td>\n",
       "    </tr>\n",
       "  </tbody>\n",
       "</table>\n",
       "</div>"
      ],
      "text/plain": [
       "   col1  col2  col3\n",
       "0     1     2     3"
      ]
     },
     "metadata": {},
     "output_type": "display_data"
    }
   ],
   "source": [
    "%%readsql\n",
    "SELECT *\n",
    "  FROM {table_name};"
   ]
  },
  {
   "cell_type": "markdown",
   "metadata": {},
   "source": [
    "# Writing to a Desired DataFrame"
   ]
  },
  {
   "cell_type": "markdown",
   "metadata": {},
   "source": [
    "Instead of writing to the DataFrame <code>_df</code>, we may want to specify it ourselves. This can be achieved by putting the desired name of the table after <code>%%showsql</code>."
   ]
  },
  {
   "cell_type": "code",
   "execution_count": 13,
   "metadata": {
    "ExecuteTime": {
     "end_time": "2016-10-25T13:47:30.959979",
     "start_time": "2016-10-25T13:47:30.924603"
    },
    "collapsed": false
   },
   "outputs": [
    {
     "data": {
      "text/html": [
       "<div>\n",
       "<table border=\"1\" class=\"dataframe\">\n",
       "  <thead>\n",
       "    <tr style=\"text-align: right;\">\n",
       "      <th></th>\n",
       "      <th>col1</th>\n",
       "      <th>col2</th>\n",
       "      <th>col3</th>\n",
       "    </tr>\n",
       "  </thead>\n",
       "  <tbody>\n",
       "    <tr>\n",
       "      <th>0</th>\n",
       "      <td>1</td>\n",
       "      <td>2</td>\n",
       "      <td>3</td>\n",
       "    </tr>\n",
       "  </tbody>\n",
       "</table>\n",
       "</div>"
      ],
      "text/plain": [
       "   col1  col2  col3\n",
       "0     1     2     3"
      ]
     },
     "metadata": {},
     "output_type": "display_data"
    }
   ],
   "source": [
    "%%readsql input_df\n",
    "SELECT *\n",
    "  FROM {table_name}"
   ]
  },
  {
   "cell_type": "code",
   "execution_count": 14,
   "metadata": {
    "ExecuteTime": {
     "end_time": "2016-10-25T13:47:32.126803",
     "start_time": "2016-10-25T13:47:32.092554"
    },
    "collapsed": false
   },
   "outputs": [
    {
     "data": {
      "text/html": [
       "<div>\n",
       "<table border=\"1\" class=\"dataframe\">\n",
       "  <thead>\n",
       "    <tr style=\"text-align: right;\">\n",
       "      <th></th>\n",
       "      <th>col1</th>\n",
       "      <th>col2</th>\n",
       "      <th>col3</th>\n",
       "    </tr>\n",
       "  </thead>\n",
       "  <tbody>\n",
       "    <tr>\n",
       "      <th>0</th>\n",
       "      <td>1</td>\n",
       "      <td>2</td>\n",
       "      <td>3</td>\n",
       "    </tr>\n",
       "  </tbody>\n",
       "</table>\n",
       "</div>"
      ],
      "text/plain": [
       "   col1  col2  col3\n",
       "0     1     2     3"
      ]
     },
     "execution_count": 14,
     "metadata": {},
     "output_type": "execute_result"
    }
   ],
   "source": [
    "input_df"
   ]
  }
 ],
 "metadata": {
  "anaconda-cloud": {},
  "kernelspec": {
   "display_name": "Python [Root]",
   "language": "python",
   "name": "Python [Root]"
  },
  "language_info": {
   "codemirror_mode": {
    "name": "ipython",
    "version": 2
   },
   "file_extension": ".py",
   "mimetype": "text/x-python",
   "name": "python",
   "nbconvert_exporter": "python",
   "pygments_lexer": "ipython2",
   "version": "2.7.12"
  },
  "nav_menu": {},
  "toc": {
   "navigate_menu": true,
   "number_sections": true,
   "sideBar": true,
   "threshold": 6,
   "toc_cell": false,
   "toc_section_display": "block",
   "toc_window_display": true
  }
 },
 "nbformat": 4,
 "nbformat_minor": 0
}

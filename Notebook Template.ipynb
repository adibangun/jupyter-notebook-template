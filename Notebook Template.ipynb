{
 "cells": [
  {
   "cell_type": "markdown",
   "metadata": {},
   "source": [
    "Links to other notebooks in the same folder:\n",
    "<a href='http://pivotal.io/data-science'><img src='https://raw.githubusercontent.com/crawles/Logos/master/Pivotal_TealOnWhite.png' width='200px' align='right'></a>\n",
    "\n",
    "<nav class = \"navbar navbar-light bg-faded\">\n",
    "    <ul class = \"nav navbar-nav\">\n",
    "        <li class = \"\">\n",
    "            <a class = \"nav-link\">notebook1</a>\n",
    "        </li>\n",
    "        <li class = \"\">\n",
    "            <a class = \"nav-link\">notebook2</a>\n",
    "        </li>\n",
    "        <li class = \"\">\n",
    "            <a class = \"nav-link\">notebook3</a>\n",
    "        </li>\n",
    "        "
   ]
  },
  {
   "cell_type": "markdown",
   "metadata": {
    "toc": "true"
   },
   "source": [
    "# Table of Contents\n",
    " <p><div class=\"lev1 toc-item\"><a href=\"#Import-Useful-Libraries\" data-toc-modified-id=\"Import-Useful-Libraries-1\"><span class=\"toc-item-num\">1&nbsp;&nbsp;</span>Import Useful Libraries</a></div><div class=\"lev1 toc-item\"><a href=\"#Connect-to-Database\" data-toc-modified-id=\"Connect-to-Database-2\"><span class=\"toc-item-num\">2&nbsp;&nbsp;</span>Connect to Database</a></div><div class=\"lev1 toc-item\"><a href=\"#Autofill-Table-Names\" data-toc-modified-id=\"Autofill-Table-Names-3\"><span class=\"toc-item-num\">3&nbsp;&nbsp;</span>Autofill Table Names</a></div><div class=\"lev1 toc-item\"><a href=\"#Thread-Manager\" data-toc-modified-id=\"Thread-Manager-4\"><span class=\"toc-item-num\">4&nbsp;&nbsp;</span>Thread Manager</a></div><div class=\"lev1 toc-item\"><a href=\"#Magic-Functions-Useful-for-Interacting-with-the-Cluster\" data-toc-modified-id=\"Magic-Functions-Useful-for-Interacting-with-the-Cluster-5\"><span class=\"toc-item-num\">5&nbsp;&nbsp;</span>Magic Functions Useful for Interacting with the Cluster</a></div>"
   ]
  },
  {
   "cell_type": "markdown",
   "metadata": {},
   "source": [
    "# Import Useful Libraries"
   ]
  },
  {
   "cell_type": "code",
   "execution_count": 1,
   "metadata": {
    "ExecuteTime": {
     "end_time": "2017-08-07T04:59:58.106991Z",
     "start_time": "2017-08-07T04:59:37.518371Z"
    },
    "collapsed": true
   },
   "outputs": [],
   "source": [
    "from datetime import datetime\n",
    "from dateutil.relativedelta import relativedelta\n",
    "from __future__ import division\n",
    "import getopt\n",
    "from itertools import izip\n",
    "import os\n",
    "import re\n",
    "import sys\n",
    "from textwrap import dedent\n",
    "import threading\n",
    "import time\n",
    "import urllib\n",
    "\n",
    "from IPython.core.display import display, HTML\n",
    "from IPython.core.magic import register_cell_magic,\\\n",
    "                               register_line_cell_magic,\\\n",
    "                               register_line_magic\n",
    "%matplotlib inline\n",
    "import matplotlib.pyplot as plt\n",
    "import numpy as np\n",
    "import pandas as pd\n",
    "import pandas.io.sql as psql\n",
    "import psycopg2\n",
    "import seaborn as sns\n",
    "\n",
    "# Credentials file to connect to database\n",
    "import credentials\n",
    "from mpp_plotting_functions import *\n",
    "from sql_functions import *"
   ]
  },
  {
   "cell_type": "code",
   "execution_count": 2,
   "metadata": {
    "ExecuteTime": {
     "end_time": "2017-08-07T04:59:58.403567Z",
     "start_time": "2017-08-07T04:59:58.108971Z"
    }
   },
   "outputs": [
    {
     "data": {
      "text/html": [
       "<script>logo = document.getElementById(\"kernel_logo_widget\").getElementsByClassName(\"current_kernel_logo\")[0];\n",
       "logo.src = \"https://github.com/crawles/Logos/blob/master/Pivotal_Python_138x40.png?raw=true\";\n",
       "logo.style = \"display: inline; width:138px; height:40px\";\n",
       "logo.innerHTML = '<a href=\"http://pivotal.io/data-science\">' + logo.innerHTML + '</a>';\n",
       "</script>"
      ],
      "text/plain": [
       "<IPython.core.display.HTML object>"
      ]
     },
     "execution_count": 2,
     "metadata": {},
     "output_type": "execute_result"
    }
   ],
   "source": [
    "# Changes logo to a Pivotal logo\n",
    "jPrefs = urllib.urlopen(\"https://raw.githubusercontent.com/crawles/Logos/master/jupyterPrefs.js\").read()\n",
    "HTML('<script>{}</script>'.format(jPrefs))"
   ]
  },
  {
   "cell_type": "code",
   "execution_count": 3,
   "metadata": {
    "ExecuteTime": {
     "end_time": "2017-08-07T04:59:58.459578Z",
     "start_time": "2017-08-07T04:59:58.405989Z"
    }
   },
   "outputs": [
    {
     "data": {
      "text/html": [
       "<style>.container {width:80% !important;}</style>"
      ],
      "text/plain": [
       "<IPython.core.display.HTML object>"
      ]
     },
     "metadata": {},
     "output_type": "display_data"
    }
   ],
   "source": [
    "# Set default cell width\n",
    "display(HTML('<style>.container {width:80% !important;}</style>'))\n",
    "\n",
    "# Set default matplotlib settings\n",
    "plt.rcParams['figure.figsize'] = (10, 7)\n",
    "plt.rcParams['lines.linewidth'] = 3\n",
    "plt.rcParams['figure.titlesize'] = 26\n",
    "plt.rcParams['axes.labelsize'] = 18\n",
    "plt.rcParams['axes.titlesize'] = 22\n",
    "plt.rcParams['xtick.labelsize'] = 14\n",
    "plt.rcParams['ytick.labelsize'] = 14\n",
    "plt.rcParams['legend.fontsize'] = 16\n",
    "\n",
    "# Set seaborn colours\n",
    "sns.set_palette('colorblind')\n",
    "blue, green, red, purple, yellow, cyan = sns.color_palette('colorblind')"
   ]
  },
  {
   "cell_type": "markdown",
   "metadata": {},
   "source": [
    "# Connect to Database"
   ]
  },
  {
   "cell_type": "code",
   "execution_count": 4,
   "metadata": {
    "ExecuteTime": {
     "end_time": "2017-08-07T05:00:00.185077Z",
     "start_time": "2017-08-07T04:59:58.462058Z"
    }
   },
   "outputs": [
    {
     "data": {
      "text/plain": [
       "<cursor object at 0x117864e50; closed: 0>"
      ]
     },
     "execution_count": 4,
     "metadata": {},
     "output_type": "execute_result"
    }
   ],
   "source": [
    "conn = psycopg2.connect(**credentials.login_info_dict)\n",
    "conn.autocommit = True\n",
    "\n",
    "# Set the schema name\n",
    "schema_name = 'template'\n",
    "psql.execute('SET search_path TO {}'.format(schema_name), conn)"
   ]
  },
  {
   "cell_type": "markdown",
   "metadata": {},
   "source": [
    "# Autofill Table Names\n",
    "One downside of interacting with a remote database in Python is that table names will not be imported in. When this is run, it will import all of the schema names as classes and their respective table names as variables. That way, when we type a schema name, we can use tab completion to list out all of its columns."
   ]
  },
  {
   "cell_type": "code",
   "execution_count": 5,
   "metadata": {
    "ExecuteTime": {
     "end_time": "2017-08-07T05:00:00.244015Z",
     "start_time": "2017-08-07T05:00:00.187902Z"
    },
    "collapsed": true
   },
   "outputs": [],
   "source": [
    "class Schema:\n",
    "    def __init__(self, tables):\n",
    "        for t in tables:\n",
    "            exec('self.{t} = \"{t}\"'.format(t=t))\n",
    "\n",
    "def refresh_tables(conn):\n",
    "    \"\"\"Refreshes the auto-fill tables.\"\"\"\n",
    "    sql = '''\n",
    "    SELECT table_schema, array_agg(table_name::TEXT) AS tables\n",
    "      FROM information_schema.tables\n",
    "     GROUP BY table_schema;\n",
    "    '''\n",
    "    info_df = psql.read_sql(sql, conn)\n",
    "\n",
    "    for row in info_df.iterrows():\n",
    "        command = '''\n",
    "        global {s}\n",
    "        {s} = Schema({tables})\n",
    "        '''.format(s=row[1][0], tables=row[1][1])\n",
    "        exec(dedent(command))"
   ]
  },
  {
   "cell_type": "markdown",
   "metadata": {},
   "source": [
    "# Thread Manager\n",
    "This class provides a framework to manage concurrent threads. The `%%background` magic function will automatically call the `ThreadManager` when opening and close threads. We can use the `ThreadManager` to view all current and past threads including start and finish times and any comments associated to the threads."
   ]
  },
  {
   "cell_type": "code",
   "execution_count": 6,
   "metadata": {
    "ExecuteTime": {
     "end_time": "2017-08-07T05:00:00.393792Z",
     "start_time": "2017-08-07T05:00:00.246852Z"
    },
    "collapsed": true
   },
   "outputs": [],
   "source": [
    "class ThreadManager:\n",
    "    def __call__(self, num_rows=5):\n",
    "        \"\"\"Returns the num_rows most recent threads (Default: 5)\"\"\"\n",
    "        return self.thread_df.tail(num_rows).iloc[::-1]\n",
    "    \n",
    "    def __init__(self):\n",
    "        df_cols = ['start_time', 'finish_time', 'exec_time',\n",
    "                   'cell_text', 'comment']\n",
    "        self.thread_df = pd.DataFrame(columns=df_cols)\n",
    "        \n",
    "    def add_thread(self, cell_text, comment='N/A'):\n",
    "        thread_id = self.get_next_thread_id()\n",
    "        start_time = datetime.now()\n",
    "        self.thread_df.loc[thread_id] = [start_time, '', '', cell_text, comment]\n",
    "        print 'Started Thread {} at {}.\\nComment: {}'\\\n",
    "            .format(thread_id, start_time, comment)\n",
    "        \n",
    "    def finish_thread(self, thread_id):\n",
    "        if self.thread_df.loc[thread_id, 'finish_time'] == '':\n",
    "            # Set finish time\n",
    "            finish_time = datetime.now()\n",
    "            self.thread_df.loc[thread_id, 'finish_time'] = finish_time\n",
    "            \n",
    "            # Set execution time\n",
    "            exec_time = finish_time - self.thread_df.loc[thread_id, 'start_time']\n",
    "            self.thread_df.loc[thread_id, 'exec_time'] = exec_time\n",
    "            \n",
    "            # Print comment\n",
    "            comment = str(self.thread_df.loc[thread_id, 'comment'])\n",
    "            print 'Finished Thread {} at {}.\\nDone in {}.\\nComment: {}'\\\n",
    "                .format(thread_id, finish_time, exec_time, comment)\n",
    "                        \n",
    "        else:\n",
    "            raise Exception('Cannot finish an already completed thread.')\n",
    "        \n",
    "    def raise_thread_error(self, thread_id, error_message):\n",
    "        if self.thread_df.loc[thread_id, 'finish_time'] == '':\n",
    "            self.thread_df.loc[thread_id, 'finish_time'] = 'Exception: {}'.format(error_message)\n",
    "            self.thread_df.loc[thread_id, 'exec_time'] = 'Exception: {}'.format(error_message)\n",
    "        \n",
    "    def get_next_thread_id(self):\n",
    "        return self.thread_df.shape[0]\n",
    "    \n",
    "    def get_finished_threads(self):\n",
    "        return self.thread_df[self.thread_df['finish_time'] != '']\n",
    "\n",
    "    def get_unfinished_threads(self):\n",
    "        return self.thread_df[self.thread_df['finish_time'] == '']\n",
    "    \n",
    "thread_manager = ThreadManager()"
   ]
  },
  {
   "cell_type": "markdown",
   "metadata": {
    "ExecuteTime": {
     "end_time": "2016-10-04T16:32:23.703993",
     "start_time": "2016-10-04T16:32:23.693514"
    }
   },
   "source": [
    "# Magic Functions Useful for Interacting with the Cluster\n",
    "These functions allow us to type write and run raw SQL a cell with the magic function at the top."
   ]
  },
  {
   "cell_type": "code",
   "execution_count": 7,
   "metadata": {
    "ExecuteTime": {
     "end_time": "2017-08-07T05:00:00.680407Z",
     "start_time": "2017-08-07T05:00:00.396506Z"
    },
    "code_folding": [
     92
    ]
   },
   "outputs": [],
   "source": [
    "@register_cell_magic\n",
    "def readsql(line, cell):\n",
    "    \"\"\"\n",
    "    Extract the code in the specific cell (should be valid SQL), and \n",
    "    execute it using the connection object to the backend  database.\n",
    "    The resulting pandas DataFrame is rendered inline  below the cell\n",
    "    using IPython.display. You'd use this for SELECT.\n",
    "    \n",
    "    Returns a DataFrame with the name specified in the magic function.\n",
    "    If this is not specified, then the DataFrame is called _df. This\n",
    "    also takes in an option \"-h\", followed by a number. This will show\n",
    "    only the specified number of rows in the DataFrame.\n",
    "    \"\"\"\n",
    "    \n",
    "    # Use the global connection object defined above.\n",
    "    global conn\n",
    "    optlist, args = getopt.getopt(line.split(), 'ih:')\n",
    "    optdict = dict(optlist) \n",
    "    # If '-h' tag is specified, set the number of rows to display\n",
    "    if '-h' in optdict:\n",
    "        head_num = int(optdict['-h'])\n",
    "    \n",
    "    # Do string formatting. If a PL/Python function\n",
    "    # is being created, then it should not try and\n",
    "    # format whatever is inside the function.\n",
    "    split_cell = cell.split('$')\n",
    "    if '-i' not in optdict:\n",
    "        if len(split_cell) > 1:\n",
    "            split_cell[0] = split_cell[0].format(**globals())\n",
    "            split_cell[-1] = split_cell[-1].format(**globals())\n",
    "            cell = '$'.join(split_cell)\n",
    "        elif len(split_cell) == 1:\n",
    "            cell = cell.format(**globals()) \n",
    "    \n",
    "    # If there is more than one table name specified,\n",
    "    # throw an exception.\n",
    "    if len(args) > 1:\n",
    "        raise Exception('More than one table name specified.')\n",
    "\n",
    "    elif len(args) == 1:\n",
    "        # If a table name is specified, store it as that\n",
    "        table_name = args[0]\n",
    "        globals()[table_name] = psql.read_sql(cell, conn)\n",
    "        if '-h' in optdict:\n",
    "            # If head_num is not 0, then display rows\n",
    "            if head_num != 0:\n",
    "                display(globals()[table_name].head(int(optdict['-h'])))\n",
    "        else:\n",
    "            display(globals()[table_name])\n",
    "\n",
    "    else:\n",
    "        # Otherwise, call it _df\n",
    "        global _df\n",
    "        _df = psql.read_sql(cell, conn)\n",
    "        if '-h' in optdict:\n",
    "            # If head_num is not 0, then display rows\n",
    "            if head_num != 0:\n",
    "                display(_df.head(head_num))\n",
    "        else:\n",
    "            display(_df)\n",
    "            \n",
    "    refresh_tables(conn)\n",
    "\n",
    "@register_cell_magic\n",
    "def execsql(line, cell):\n",
    "    \"\"\"\n",
    "    Extract the code in the specific cell (should be valid SQL), and\n",
    "    execute it using the connection object to the backend  database.\n",
    "    You'd use this for CREATE/UPDATE/DELETE.\n",
    "    \"\"\"\n",
    "    \n",
    "    # Use the global connection object defined above.\n",
    "    global conn\n",
    "    optlist, args = getopt.getopt(line.split(), 'ih:')\n",
    "    optdict = dict(optlist)\n",
    "    \n",
    "    # Do string formatting. If a PL/Python function\n",
    "    # is being created, then it should not try and\n",
    "    # format whatever is inside the function.\n",
    "    split_cell = cell.split('$')\n",
    "    if '-i' not in optdict:\n",
    "        if len(split_cell) > 1:\n",
    "            split_cell[0] = split_cell[0].format(**globals())\n",
    "            split_cell[-1] = split_cell[-1].format(**globals())\n",
    "            cell = '$'.join(split_cell)\n",
    "        elif len(split_cell) == 1:\n",
    "            cell = cell.format(**globals())\n",
    "    psql.execute(cell, conn)\n",
    "    refresh_tables(conn)\n",
    "\n",
    "@register_cell_magic\n",
    "def printsql(line, cell):\n",
    "    \"\"\"Show the SQL query that will be run.\"\"\"\n",
    "    \n",
    "    optlist, args = getopt.getopt(line.split(), 'ih:')\n",
    "    optdict = dict(optlist)\n",
    "    \n",
    "    # Do string formatting. If a PL/Python function\n",
    "    # is being created, then it should not try and\n",
    "    # format whatever is inside the function.\n",
    "    split_cell = cell.split('$')\n",
    "    if '-i' not in optdict:\n",
    "        if len(split_cell) > 1:\n",
    "            split_cell[0] = split_cell[0].format(**globals())\n",
    "            split_cell[-1] = split_cell[-1].format(**globals())\n",
    "            cell = '$'.join(split_cell)\n",
    "        elif len(split_cell) == 1:\n",
    "            cell = cell.format(**globals())\n",
    "    print cell\n",
    "    \n",
    "@register_cell_magic\n",
    "def background(line, cell):\n",
    "    \"\"\"Runs whatever is in the cell in a separate thread. This allows\n",
    "    the user to run cells in the background so that additional cells\n",
    "    can be run concurrently. This will also micromanage by labelling \n",
    "    each thread with an id number.\n",
    "    \n",
    "    Whatever follows after specifying '%%background' will be used as a\n",
    "    comment to label the process if the id number is not descriptive\n",
    "    enough.\n",
    "    \"\"\"\n",
    "    def is_useful_code(code):\n",
    "        \"\"\"Returns True if code is useful to use. Code that is\n",
    "        considered not useful is code that contains only commented\n",
    "        lines or empty lines.\"\"\"\n",
    "\n",
    "        lines = code.split('\\n')\n",
    "\n",
    "        # For each line, check if line equals '' or starts with a '#'\n",
    "        return not np.all([line == '' or line[0] == '#' for line in lines])\n",
    "    \n",
    "    def run_cell(cell_value, line_value, thread_id):\n",
    "        try:\n",
    "            exec cell_value in globals()\n",
    "        except Exception as error_message:\n",
    "            thread_manager.raise_thread_error(thread_id, error_message)\n",
    "            raise Exception(error_message)\n",
    "            \n",
    "        thread_manager.finish_thread(thread_id)\n",
    "        \n",
    "    # Splits the code into separate threads by lines that start with\n",
    "    # two or more '#' characters. \n",
    "    cell_list = re.split('(?:^#{2,}|\\n#{2,}).*\\n', cell)\n",
    "    cell_list = [sub_cell\n",
    "                 for sub_cell in cell_list\n",
    "                 if is_useful_code(sub_cell)]\n",
    "    \n",
    "    # Find comment fields, which are defined by lines with two or more\n",
    "    # '#' characters, spaces, any character (except '#' and '\\n'), then\n",
    "    # a terminating '\\n'.\n",
    "    comment_list = re.findall('(^#{2,}|\\n#{2,})(\\s)*([^#\\n]+)\\n', cell)\n",
    "    comment_list = [x[2] for x in comment_list]\n",
    "\n",
    "    for sub_cell, sub_comment in izip(cell_list, comment_list):\n",
    "        thread_id = thread_manager.get_next_thread_id()\n",
    "\n",
    "        # Add thread to thread manager\n",
    "        if len(line) > 0:\n",
    "            # Format final thread comment\n",
    "            thread_comment = '{} - {}'.format(line, sub_comment)\n",
    "            thread_manager.add_thread(cell_text=sub_cell,\n",
    "                                      comment=thread_comment)\n",
    "        else:\n",
    "            thread_manager.add_thread(cell_text=sub_cell)\n",
    "\n",
    "        # Run the thread in the background\n",
    "        thread = threading.Thread(target=run_cell,\n",
    "                                  args=(sub_cell, line, thread_id)\n",
    "                                 )\n",
    "        thread.start()\n",
    "\n",
    "# We delete these to avoid name conflicts for automagic to work\n",
    "del execsql, readsql, printsql, background"
   ]
  }
 ],
 "metadata": {
  "anaconda-cloud": {},
  "hide_input": false,
  "kernelspec": {
   "display_name": "Python 2",
   "language": "python",
   "name": "python2"
  },
  "language_info": {
   "codemirror_mode": {
    "name": "ipython",
    "version": 2
   },
   "file_extension": ".py",
   "mimetype": "text/x-python",
   "name": "python",
   "nbconvert_exporter": "python",
   "pygments_lexer": "ipython2",
   "version": "2.7.13"
  },
  "nav_menu": {},
  "toc": {
   "colors": {
    "hover_highlight": "#DAA520",
    "navigate_num": "#000000",
    "navigate_text": "#333333",
    "running_highlight": "#FF0000",
    "selected_highlight": "#FFD700",
    "sidebar_border": "#EEEEEE",
    "wrapper_background": "#FFFFFF"
   },
   "moveMenuLeft": true,
   "nav_menu": {
    "height": "102px",
    "width": "252px"
   },
   "navigate_menu": true,
   "number_sections": true,
   "sideBar": true,
   "threshold": 4,
   "toc_cell": true,
   "toc_section_display": "block",
   "toc_window_display": false,
   "widenNotebook": false
  },
  "toc_position": {
   "height": "982px",
   "left": "0px",
   "right": "auto",
   "top": "106px",
   "width": "212px"
  }
 },
 "nbformat": 4,
 "nbformat_minor": 1
}

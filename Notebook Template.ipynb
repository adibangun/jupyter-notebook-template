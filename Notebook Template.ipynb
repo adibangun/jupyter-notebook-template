{
 "cells": [
  {
   "cell_type": "markdown",
   "metadata": {},
   "source": [
    "Links to other notebooks in the same folder:\n",
    "<a href='http://pivotal.io/data-science'><img src='https://raw.githubusercontent.com/crawles/Logos/master/Pivotal_TealOnWhite.png' width='200px' align='right'></a>\n",
    "\n",
    "<nav class = \"navbar navbar-light bg-faded\">\n",
    "    <ul class = \"nav navbar-nav\">\n",
    "        <li class = \"\">\n",
    "            <a class = \"nav-link\">notebook1</a>\n",
    "        </li>\n",
    "        <li class = \"\">\n",
    "            <a class = \"nav-link\">notebook2</a>\n",
    "        </li>\n",
    "        <li class = \"\">\n",
    "            <a class = \"nav-link\">notebook3</a>\n",
    "        </li>\n",
    "        "
   ]
  },
  {
   "cell_type": "markdown",
   "metadata": {},
   "source": [
    "# Import useful libraries"
   ]
  },
  {
   "cell_type": "code",
   "execution_count": 1,
   "metadata": {
    "ExecuteTime": {
     "end_time": "2016-10-18T16:48:13.948534",
     "start_time": "2016-10-18T16:48:12.324816"
    },
    "collapsed": false
   },
   "outputs": [
    {
     "name": "stderr",
     "output_type": "stream",
     "text": [
      "/Users/gregorytam/anaconda/lib/python2.7/site-packages/matplotlib/font_manager.py:273: UserWarning: Matplotlib is building the font cache using fc-list. This may take a moment.\n",
      "  warnings.warn('Matplotlib is building the font cache using fc-list. This may take a moment.')\n"
     ]
    }
   ],
   "source": [
    "from datetime import datetime\n",
    "from dateutil.relativedelta import relativedelta\n",
    "from IPython.core.display import display, HTML\n",
    "import os\n",
    "import sys\n",
    "import urllib\n",
    "\n",
    "# If we want to move the graph\n",
    "# %matplotlib notebook\n",
    "from IPython.core.magic import (register_line_magic, register_cell_magic,\n",
    "                                register_line_cell_magic)\n",
    "from IPython.display import display\n",
    "from IPython.display import HTML\n",
    "%matplotlib inline\n",
    "import matplotlib as mpl\n",
    "import matplotlib.pyplot as plt\n",
    "import numpy as np\n",
    "import pandas as pd\n",
    "import pandas.io.sql as psql\n",
    "import psycopg2\n",
    "import seaborn as sns\n",
    "\n",
    "# Credentials file to connect to database\n",
    "import credentials"
   ]
  },
  {
   "cell_type": "code",
   "execution_count": 2,
   "metadata": {
    "ExecuteTime": {
     "end_time": "2016-10-18T16:48:15.027064",
     "start_time": "2016-10-18T16:48:13.950273"
    },
    "collapsed": false
   },
   "outputs": [
    {
     "data": {
      "text/html": [
       "<script>logo = document.getElementById(\"kernel_logo_widget\").getElementsByClassName(\"current_kernel_logo\")[0];\n",
       "logo.src = \"https://github.com/crawles/Logos/blob/master/Pivotal_Python_138x40.png?raw=true\";\n",
       "logo.style = \"display: inline; width:138px; height:40px\";\n",
       "logo.innerHTML = '<a href=\"http://pivotal.io/data-science\">' + logo.innerHTML + '</a>';\n",
       "</script>"
      ],
      "text/plain": [
       "<IPython.core.display.HTML object>"
      ]
     },
     "execution_count": 2,
     "metadata": {},
     "output_type": "execute_result"
    }
   ],
   "source": [
    "jPrefs = urllib.urlopen(\"https://raw.githubusercontent.com/crawles/Logos/master/jupyterPrefs.js\").read()\n",
    "HTML('<script>{}</script>'.format(jPrefs))"
   ]
  },
  {
   "cell_type": "code",
   "execution_count": 3,
   "metadata": {
    "ExecuteTime": {
     "end_time": "2016-10-18T16:48:15.061855",
     "start_time": "2016-10-18T16:48:15.029227"
    },
    "collapsed": false
   },
   "outputs": [
    {
     "data": {
      "text/html": [
       "<style>.container {width:80% !important;}</style>"
      ],
      "text/plain": [
       "<IPython.core.display.HTML object>"
      ]
     },
     "metadata": {},
     "output_type": "display_data"
    }
   ],
   "source": [
    "# Set default cell width\n",
    "display(HTML('<style>.container {width:80% !important;}</style>'))\n",
    "\n",
    "# Set default matplotlib settings\n",
    "mpl.rcParams['figure.figsize'] = (10, 8)\n",
    "mpl.rcParams['lines.linewidth'] = 3\n",
    "mpl.rcParams['figure.titlesize'] = 26\n",
    "mpl.rcParams['axes.labelsize'] = 18\n",
    "mpl.rcParams['axes.titlesize'] = 22\n",
    "mpl.rcParams['xtick.labelsize'] = 14\n",
    "mpl.rcParams['ytick.labelsize'] = 14\n",
    "mpl.rcParams['legend.fontsize'] = 16"
   ]
  },
  {
   "cell_type": "markdown",
   "metadata": {},
   "source": [
    "# Connect to Database"
   ]
  },
  {
   "cell_type": "code",
   "execution_count": 4,
   "metadata": {
    "ExecuteTime": {
     "end_time": "2016-10-18T16:48:15.095728",
     "start_time": "2016-10-18T16:48:15.063278"
    },
    "collapsed": false
   },
   "outputs": [],
   "source": [
    "conn = psycopg2.connect(database=credentials.database,\n",
    "                        user=credentials.user,\n",
    "                        password=credentials.password,\n",
    "                        host=credentials.host\n",
    "                       )\n",
    "conn.autocommit = True"
   ]
  },
  {
   "cell_type": "markdown",
   "metadata": {
    "ExecuteTime": {
     "end_time": "2016-10-04T16:32:23.703993",
     "start_time": "2016-10-04T16:32:23.693514"
    }
   },
   "source": [
    "# Define magic functions - helpful for interacting with cluster"
   ]
  },
  {
   "cell_type": "code",
   "execution_count": 5,
   "metadata": {
    "ExecuteTime": {
     "end_time": "2016-10-18T16:48:15.128935",
     "start_time": "2016-10-18T16:48:15.097281"
    },
    "collapsed": true
   },
   "outputs": [],
   "source": [
    "_df = None\n",
    "@register_cell_magic\n",
    "def showsql(line, cell):\n",
    "    \"\"\"\n",
    "    Extract the code in the specific cell (should be valid SQL), and execute\n",
    "    it using the connection object to the backend database. \n",
    "    The resulting Pandas dataframe\n",
    "    is rendered inline below the cell using IPython.display.\n",
    "    You'd use this for SELECT\n",
    "    \"\"\"\n",
    "    #Use the global connection object defined above.\n",
    "    global conn\n",
    "    global _df\n",
    "    _df = psql.read_sql(cell, conn)\n",
    "    display(_df)\n",
    "    return\n",
    "    \n",
    "@register_cell_magic\n",
    "def execsql(line, cell):\n",
    "    \"\"\"\n",
    "    Extract the code in the specific cell (should be valid SQL), and execute\n",
    "    it using the connection object to the backend database. \n",
    "    You'd use this for CREATE/UPDATE/DELETE\n",
    "    \"\"\"\n",
    "    #Use the global connection object defined above.\n",
    "    global conn\n",
    "    global _df\n",
    "    psql.execute(cell, conn)\n",
    "    return\n",
    "\n",
    "# We delete these to avoid name conflicts for automagic to work\n",
    "del execsql, showsql"
   ]
  },
  {
   "cell_type": "code",
   "execution_count": 6,
   "metadata": {
    "ExecuteTime": {
     "end_time": "2016-10-18T16:48:15.215007",
     "start_time": "2016-10-18T16:48:15.130625"
    },
    "collapsed": true
   },
   "outputs": [],
   "source": [
    "%%execsql\n",
    "DROP TABLE IF EXISTS example_data_table;\n",
    "CREATE TABLE example_data_table\n",
    "   AS SELECT 1 AS col1,\n",
    "             2 AS col2, \n",
    "             3 AS col3;"
   ]
  },
  {
   "cell_type": "code",
   "execution_count": 7,
   "metadata": {
    "ExecuteTime": {
     "end_time": "2016-10-18T16:48:15.251230",
     "start_time": "2016-10-18T16:48:15.216904"
    },
    "collapsed": false
   },
   "outputs": [
    {
     "data": {
      "text/html": [
       "<div>\n",
       "<table border=\"1\" class=\"dataframe\">\n",
       "  <thead>\n",
       "    <tr style=\"text-align: right;\">\n",
       "      <th></th>\n",
       "      <th>col1</th>\n",
       "      <th>col2</th>\n",
       "      <th>col3</th>\n",
       "    </tr>\n",
       "  </thead>\n",
       "  <tbody>\n",
       "    <tr>\n",
       "      <th>0</th>\n",
       "      <td>1</td>\n",
       "      <td>2</td>\n",
       "      <td>3</td>\n",
       "    </tr>\n",
       "  </tbody>\n",
       "</table>\n",
       "</div>"
      ],
      "text/plain": [
       "   col1  col2  col3\n",
       "0     1     2     3"
      ]
     },
     "metadata": {},
     "output_type": "display_data"
    }
   ],
   "source": [
    "%%showsql\n",
    "SELECT *\n",
    "  FROM example_data_table;"
   ]
  },
  {
   "cell_type": "code",
   "execution_count": 8,
   "metadata": {
    "ExecuteTime": {
     "end_time": "2016-10-18T16:48:15.284614",
     "start_time": "2016-10-18T16:48:15.253056"
    },
    "collapsed": false
   },
   "outputs": [
    {
     "data": {
      "text/html": [
       "<div>\n",
       "<table border=\"1\" class=\"dataframe\">\n",
       "  <thead>\n",
       "    <tr style=\"text-align: right;\">\n",
       "      <th></th>\n",
       "      <th>col1</th>\n",
       "      <th>col2</th>\n",
       "      <th>col3</th>\n",
       "    </tr>\n",
       "  </thead>\n",
       "  <tbody>\n",
       "    <tr>\n",
       "      <th>0</th>\n",
       "      <td>1</td>\n",
       "      <td>2</td>\n",
       "      <td>3</td>\n",
       "    </tr>\n",
       "  </tbody>\n",
       "</table>\n",
       "</div>"
      ],
      "text/plain": [
       "   col1  col2  col3\n",
       "0     1     2     3"
      ]
     },
     "execution_count": 8,
     "metadata": {},
     "output_type": "execute_result"
    }
   ],
   "source": [
    "# global variable: result of query in pandas dataframe \n",
    "_df "
   ]
  },
  {
   "cell_type": "code",
   "execution_count": 9,
   "metadata": {
    "ExecuteTime": {
     "end_time": "2016-10-18T16:48:15.314261",
     "start_time": "2016-10-18T16:48:15.286105"
    },
    "collapsed": true
   },
   "outputs": [],
   "source": [
    "%%execsql\n",
    "DROP TABLE IF EXISTS example_data_table;"
   ]
  }
 ],
 "metadata": {
  "anaconda-cloud": {},
  "kernelspec": {
   "display_name": "Python [Root]",
   "language": "python",
   "name": "Python [Root]"
  },
  "language_info": {
   "codemirror_mode": {
    "name": "ipython",
    "version": 2
   },
   "file_extension": ".py",
   "mimetype": "text/x-python",
   "name": "python",
   "nbconvert_exporter": "python",
   "pygments_lexer": "ipython2",
   "version": "2.7.12"
  },
  "nav_menu": {},
  "toc": {
   "navigate_menu": true,
   "number_sections": true,
   "sideBar": true,
   "threshold": 6,
   "toc_cell": false,
   "toc_section_display": "block",
   "toc_window_display": false
  }
 },
 "nbformat": 4,
 "nbformat_minor": 0
}

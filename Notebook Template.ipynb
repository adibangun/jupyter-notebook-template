{
 "cells": [
  {
   "cell_type": "markdown",
   "metadata": {},
   "source": [
    "Links to other notebooks in the same folder:\n",
    "<a href='http://pivotal.io/data-science'><img src='https://raw.githubusercontent.com/crawles/Logos/master/Pivotal_TealOnWhite.png' width='200px' align='right'></a>\n",
    "\n",
    "<nav class = \"navbar navbar-light bg-faded\">\n",
    "    <ul class = \"nav navbar-nav\">\n",
    "        <li class = \"\">\n",
    "            <a class = \"nav-link\">notebook1</a>\n",
    "        </li>\n",
    "        <li class = \"\">\n",
    "            <a class = \"nav-link\">notebook2</a>\n",
    "        </li>\n",
    "        <li class = \"\">\n",
    "            <a class = \"nav-link\">notebook3</a>\n",
    "        </li>\n",
    "        "
   ]
  },
  {
   "cell_type": "markdown",
   "metadata": {},
   "source": [
    "# Import useful libraries"
   ]
  },
  {
   "cell_type": "code",
   "execution_count": 1,
   "metadata": {
    "ExecuteTime": {
     "end_time": "2016-11-08T17:33:15.549401",
     "start_time": "2016-11-08T17:33:13.814398"
    },
    "collapsed": false
   },
   "outputs": [
    {
     "name": "stderr",
     "output_type": "stream",
     "text": [
      "/Users/gregorytam/anaconda/lib/python2.7/site-packages/matplotlib/font_manager.py:273: UserWarning: Matplotlib is building the font cache using fc-list. This may take a moment.\n",
      "  warnings.warn('Matplotlib is building the font cache using fc-list. This may take a moment.')\n"
     ]
    }
   ],
   "source": [
    "from datetime import datetime\n",
    "from dateutil.relativedelta import relativedelta\n",
    "import getopt\n",
    "from IPython.core.display import display, HTML\n",
    "import os\n",
    "import sys\n",
    "import urllib\n",
    "\n",
    "# If we want to move the graph\n",
    "# %matplotlib notebook\n",
    "from IPython.core.magic import register_line_magic, register_cell_magic, register_line_cell_magic\n",
    "from IPython.display import display\n",
    "from IPython.display import HTML\n",
    "%matplotlib inline\n",
    "import matplotlib as mpl\n",
    "import matplotlib.pyplot as plt\n",
    "import numpy as np\n",
    "import pandas as pd\n",
    "import pandas.io.sql as psql\n",
    "import psycopg2\n",
    "import seaborn as sns\n",
    "\n",
    "# Credentials file to connect to database\n",
    "import credentials\n",
    "from sql_functions import *\n",
    "from magic_functions import *\n",
    "from mpp_plotting_functions import *"
   ]
  },
  {
   "cell_type": "code",
   "execution_count": 2,
   "metadata": {
    "ExecuteTime": {
     "end_time": "2016-11-08T17:33:16.637395",
     "start_time": "2016-11-08T17:33:15.551153"
    },
    "collapsed": false
   },
   "outputs": [
    {
     "data": {
      "text/html": [
       "<script>logo = document.getElementById(\"kernel_logo_widget\").getElementsByClassName(\"current_kernel_logo\")[0];\n",
       "logo.src = \"https://github.com/crawles/Logos/blob/master/Pivotal_Python_138x40.png?raw=true\";\n",
       "logo.style = \"display: inline; width:138px; height:40px\";\n",
       "logo.innerHTML = '<a href=\"http://pivotal.io/data-science\">' + logo.innerHTML + '</a>';\n",
       "</script>"
      ],
      "text/plain": [
       "<IPython.core.display.HTML object>"
      ]
     },
     "execution_count": 2,
     "metadata": {},
     "output_type": "execute_result"
    }
   ],
   "source": [
    "# Changes logo to a Pivotal logo\n",
    "jPrefs = urllib.urlopen(\"https://raw.githubusercontent.com/crawles/Logos/master/jupyterPrefs.js\").read()\n",
    "HTML('<script>{}</script>'.format(jPrefs))"
   ]
  },
  {
   "cell_type": "code",
   "execution_count": 3,
   "metadata": {
    "ExecuteTime": {
     "end_time": "2016-11-08T17:33:16.675632",
     "start_time": "2016-11-08T17:33:16.639529"
    },
    "collapsed": false
   },
   "outputs": [
    {
     "data": {
      "text/html": [
       "<style>.container {width:80% !important;}</style>"
      ],
      "text/plain": [
       "<IPython.core.display.HTML object>"
      ]
     },
     "metadata": {},
     "output_type": "display_data"
    }
   ],
   "source": [
    "# Set default cell width\n",
    "display(HTML('<style>.container {width:80% !important;}</style>'))\n",
    "\n",
    "# Set default matplotlib settings\n",
    "mpl.rcParams['figure.figsize'] = (10, 7)\n",
    "mpl.rcParams['lines.linewidth'] = 3\n",
    "mpl.rcParams['figure.titlesize'] = 26\n",
    "mpl.rcParams['axes.labelsize'] = 18\n",
    "mpl.rcParams['axes.titlesize'] = 22\n",
    "mpl.rcParams['xtick.labelsize'] = 14\n",
    "mpl.rcParams['ytick.labelsize'] = 14\n",
    "mpl.rcParams['legend.fontsize'] = 16\n",
    "\n",
    "# Set Seaborn Colours\n",
    "blue, green, red, purple, yellow, cyan = sns.color_palette()"
   ]
  },
  {
   "cell_type": "markdown",
   "metadata": {},
   "source": [
    "# Connect to Database"
   ]
  },
  {
   "cell_type": "code",
   "execution_count": 4,
   "metadata": {
    "ExecuteTime": {
     "end_time": "2016-11-08T17:33:16.742143",
     "start_time": "2016-11-08T17:33:16.677159"
    },
    "collapsed": false
   },
   "outputs": [],
   "source": [
    "conn = psycopg2.connect(**credentials.login_info_dict)\n",
    "conn.autocommit = True"
   ]
  },
  {
   "cell_type": "code",
   "execution_count": 5,
   "metadata": {
    "ExecuteTime": {
     "end_time": "2016-11-08T17:33:16.829240",
     "start_time": "2016-11-08T17:33:16.744006"
    },
    "collapsed": false
   },
   "outputs": [
    {
     "data": {
      "text/plain": [
       "<cursor object at 0x11939a718; closed: 0>"
      ]
     },
     "execution_count": 5,
     "metadata": {},
     "output_type": "execute_result"
    }
   ],
   "source": [
    "schema_name = 'template'\n",
    "psql.execute('SET search_path TO {}'.format(schema_name), conn)"
   ]
  },
  {
   "cell_type": "markdown",
   "metadata": {
    "ExecuteTime": {
     "end_time": "2016-10-04T16:32:23.703993",
     "start_time": "2016-10-04T16:32:23.693514"
    }
   },
   "source": [
    "# Define magic functions - helpful for interacting with cluster"
   ]
  },
  {
   "cell_type": "code",
   "execution_count": 6,
   "metadata": {
    "ExecuteTime": {
     "end_time": "2016-11-08T17:33:16.881000",
     "start_time": "2016-11-08T17:33:16.830753"
    },
    "collapsed": false
   },
   "outputs": [],
   "source": [
    "@register_cell_magic\n",
    "def readsql(line, cell):\n",
    "    \"\"\"\n",
    "    Extract the code in the specific cell (should be valid SQL), \n",
    "    and execute it using the connection object to the backend \n",
    "    database. The resulting pandas DataFrame is rendered inline \n",
    "    below the cell using IPython.display. You'd use this for SELECT.\n",
    "    \n",
    "    Returns a DataFrame with the name specified in the magic\n",
    "    function. If this is not specified, then the DataFrame\n",
    "    is called _df. This also takes in an option \"-h\", followed \n",
    "    by a number. This will show only the specified number of rows\n",
    "    in the DataFrame.\n",
    "    \"\"\"\n",
    "    # Use the global connection object defined above.\n",
    "    global conn\n",
    "    optlist, args = getopt.getopt(line.split(), 'h:')\n",
    "    optdict = dict(optlist)\n",
    "    if '-h' in optdict:\n",
    "        head_num = optdict['-h']\n",
    "    elif len(optdict) == 0:\n",
    "        head_num = 0\n",
    "    \n",
    "    # If there is more than one table name specified,\n",
    "    # throw an exception.\n",
    "    if len(args) > 1:\n",
    "        raise Exception('More than one table name specified')\n",
    "\n",
    "    elif len(args) == 1:\n",
    "        # If a table name is specified, store it as that\n",
    "        table_name = args[0]\n",
    "        globals()[table_name] = psql.read_sql(cell.format(**globals()), conn)\n",
    "        if '-h' in optdict:\n",
    "            display(globals()[table_name].head(int(optdict['-h'])))\n",
    "        else:\n",
    "            display(globals()[table_name])\n",
    "\n",
    "    else:\n",
    "        # Otherwise, call it _df\n",
    "        global _df\n",
    "        _df = psql.read_sql(cell.format(**globals()), conn)\n",
    "        if '-h' in optdict:\n",
    "            display(_df.head(int(optdict['-h'])))\n",
    "        else:\n",
    "            display(_df)\n",
    "\n",
    "@register_cell_magic\n",
    "def execsql(line, cell):\n",
    "    \"\"\"\n",
    "    Extract the code in the specific cell (should be valid SQL),\n",
    "    and execute it using the connection object to the backend \n",
    "    database. You'd use this for CREATE/UPDATE/DELETE.\n",
    "    \"\"\"\n",
    "    # Use the global connection object defined above.\n",
    "    global conn\n",
    "    psql.execute(cell.format(**globals()), conn)\n",
    "\n",
    "@register_cell_magic\n",
    "def printsql(line, cell):\n",
    "    \"\"\"\n",
    "    Show the SQL query that will be run.\n",
    "    \"\"\"\n",
    "    print cell.format(**globals())\n",
    "\n",
    "# We delete these to avoid name conflicts for automagic to work\n",
    "del execsql, readsql, printsql"
   ]
  },
  {
   "cell_type": "markdown",
   "metadata": {},
   "source": [
    "# Autofill Table Names\n",
    "One downside of interacting with a remote database in Python is that table names will not be imported in. When this is run, it will import all of the schema names as classes and their respective table names as variables. That way, when we type a schema name, we can use tab completion to list out all of its columns."
   ]
  },
  {
   "cell_type": "code",
   "execution_count": 7,
   "metadata": {
    "ExecuteTime": {
     "end_time": "2016-11-08T17:33:17.463789",
     "start_time": "2016-11-08T17:33:17.417233"
    },
    "collapsed": false
   },
   "outputs": [],
   "source": [
    "sql = '''\n",
    "SELECT table_schema, array_agg(table_name::TEXT) AS tables\n",
    "  FROM information_schema.tables\n",
    " GROUP BY table_schema;\n",
    "'''\n",
    "info_df = psql.read_sql(sql, conn)\n",
    "\n",
    "class Schema:\n",
    "    def __init__(self, tables):\n",
    "        for t in tables:\n",
    "            exec('self.{t} = \"{t}\"'.format(t=t))\n",
    "\n",
    "for row in info_df.iterrows():\n",
    "    command = '{s} = Schema({tables})'.format(s=row[1][0], tables=row[1][1])\n",
    "    exec(command)"
   ]
  },
  {
   "cell_type": "markdown",
   "metadata": {},
   "source": [
    "# Examples"
   ]
  },
  {
   "cell_type": "markdown",
   "metadata": {},
   "source": [
    "## Create Tables\n",
    "Here we can create tables in SQL simply by using a SQL command and putting <code>%%execsql</code> at the very top of the cell."
   ]
  },
  {
   "cell_type": "code",
   "execution_count": 8,
   "metadata": {
    "ExecuteTime": {
     "end_time": "2016-11-08T17:33:18.855172",
     "start_time": "2016-11-08T17:33:18.801286"
    },
    "collapsed": true
   },
   "outputs": [],
   "source": [
    "%%execsql\n",
    "DROP TABLE IF EXISTS example_data_table;\n",
    "CREATE TABLE example_data_table\n",
    "   AS SELECT 1 AS col1,\n",
    "             2 AS col2, \n",
    "             3 AS col3;\n",
    "            \n",
    "DROP TABLE IF EXISTS other_table;\n",
    "CREATE TABLE other_table\n",
    "   AS SELECT 1;"
   ]
  },
  {
   "cell_type": "markdown",
   "metadata": {},
   "source": [
    "Now we can check how autocomplete works:\n",
    "\n",
    "<img src='autofill.png' width= 300px align='left'>"
   ]
  },
  {
   "cell_type": "markdown",
   "metadata": {},
   "source": [
    "Try it by typing \"<code>template.</code>\" below then pressing tab"
   ]
  },
  {
   "cell_type": "code",
   "execution_count": null,
   "metadata": {
    "ExecuteTime": {
     "end_time": "2016-11-06T23:57:22.749175",
     "start_time": "2016-11-06T23:57:22.716487"
    },
    "collapsed": false
   },
   "outputs": [],
   "source": [
    "template."
   ]
  },
  {
   "cell_type": "markdown",
   "metadata": {},
   "source": [
    "## Viewing a Table\n",
    "We can now view one of the tables that we just created."
   ]
  },
  {
   "cell_type": "code",
   "execution_count": 9,
   "metadata": {
    "ExecuteTime": {
     "end_time": "2016-11-08T17:33:22.716747",
     "start_time": "2016-11-08T17:33:22.680972"
    },
    "collapsed": false
   },
   "outputs": [
    {
     "data": {
      "text/html": [
       "<div>\n",
       "<table border=\"1\" class=\"dataframe\">\n",
       "  <thead>\n",
       "    <tr style=\"text-align: right;\">\n",
       "      <th></th>\n",
       "      <th>col1</th>\n",
       "      <th>col2</th>\n",
       "      <th>col3</th>\n",
       "    </tr>\n",
       "  </thead>\n",
       "  <tbody>\n",
       "    <tr>\n",
       "      <th>0</th>\n",
       "      <td>1</td>\n",
       "      <td>2</td>\n",
       "      <td>3</td>\n",
       "    </tr>\n",
       "  </tbody>\n",
       "</table>\n",
       "</div>"
      ],
      "text/plain": [
       "   col1  col2  col3\n",
       "0     1     2     3"
      ]
     },
     "metadata": {},
     "output_type": "display_data"
    }
   ],
   "source": [
    "%%readsql\n",
    "SELECT *\n",
    "  FROM example_data_table;"
   ]
  },
  {
   "cell_type": "markdown",
   "metadata": {},
   "source": [
    "By default, this will store the resulting pandas DataFrame into a variable called <code>_df</code>."
   ]
  },
  {
   "cell_type": "code",
   "execution_count": 10,
   "metadata": {
    "ExecuteTime": {
     "end_time": "2016-11-08T17:33:23.529182",
     "start_time": "2016-11-08T17:33:23.496000"
    },
    "collapsed": false
   },
   "outputs": [
    {
     "data": {
      "text/html": [
       "<div>\n",
       "<table border=\"1\" class=\"dataframe\">\n",
       "  <thead>\n",
       "    <tr style=\"text-align: right;\">\n",
       "      <th></th>\n",
       "      <th>col1</th>\n",
       "      <th>col2</th>\n",
       "      <th>col3</th>\n",
       "    </tr>\n",
       "  </thead>\n",
       "  <tbody>\n",
       "    <tr>\n",
       "      <th>0</th>\n",
       "      <td>1</td>\n",
       "      <td>2</td>\n",
       "      <td>3</td>\n",
       "    </tr>\n",
       "  </tbody>\n",
       "</table>\n",
       "</div>"
      ],
      "text/plain": [
       "   col1  col2  col3\n",
       "0     1     2     3"
      ]
     },
     "execution_count": 10,
     "metadata": {},
     "output_type": "execute_result"
    }
   ],
   "source": [
    "_df"
   ]
  },
  {
   "cell_type": "markdown",
   "metadata": {
    "ExecuteTime": {
     "end_time": "2016-11-02T16:54:21.357839",
     "start_time": "2016-11-02T16:54:21.329375"
    }
   },
   "source": [
    "### Storing the Table to a DataFrame"
   ]
  },
  {
   "cell_type": "markdown",
   "metadata": {
    "ExecuteTime": {
     "end_time": "2016-11-02T16:43:29.134353",
     "start_time": "2016-11-02T16:43:29.122804"
    }
   },
   "source": [
    "We can also write this to a specific DataFrame. We do this by appending the desired DataFrame name to '%%readsql'."
   ]
  },
  {
   "cell_type": "code",
   "execution_count": 11,
   "metadata": {
    "ExecuteTime": {
     "end_time": "2016-11-08T17:33:24.140078",
     "start_time": "2016-11-08T17:33:24.104902"
    },
    "collapsed": false
   },
   "outputs": [
    {
     "data": {
      "text/html": [
       "<div>\n",
       "<table border=\"1\" class=\"dataframe\">\n",
       "  <thead>\n",
       "    <tr style=\"text-align: right;\">\n",
       "      <th></th>\n",
       "      <th>col1</th>\n",
       "      <th>col2</th>\n",
       "      <th>col3</th>\n",
       "    </tr>\n",
       "  </thead>\n",
       "  <tbody>\n",
       "    <tr>\n",
       "      <th>0</th>\n",
       "      <td>1</td>\n",
       "      <td>2</td>\n",
       "      <td>3</td>\n",
       "    </tr>\n",
       "  </tbody>\n",
       "</table>\n",
       "</div>"
      ],
      "text/plain": [
       "   col1  col2  col3\n",
       "0     1     2     3"
      ]
     },
     "metadata": {},
     "output_type": "display_data"
    }
   ],
   "source": [
    "%%readsql test_df\n",
    "SELECT *\n",
    "  FROM example_data_table"
   ]
  },
  {
   "cell_type": "code",
   "execution_count": 12,
   "metadata": {
    "ExecuteTime": {
     "end_time": "2016-11-08T17:33:24.316146",
     "start_time": "2016-11-08T17:33:24.281874"
    },
    "collapsed": false
   },
   "outputs": [
    {
     "data": {
      "text/html": [
       "<div>\n",
       "<table border=\"1\" class=\"dataframe\">\n",
       "  <thead>\n",
       "    <tr style=\"text-align: right;\">\n",
       "      <th></th>\n",
       "      <th>col1</th>\n",
       "      <th>col2</th>\n",
       "      <th>col3</th>\n",
       "    </tr>\n",
       "  </thead>\n",
       "  <tbody>\n",
       "    <tr>\n",
       "      <th>0</th>\n",
       "      <td>1</td>\n",
       "      <td>2</td>\n",
       "      <td>3</td>\n",
       "    </tr>\n",
       "  </tbody>\n",
       "</table>\n",
       "</div>"
      ],
      "text/plain": [
       "   col1  col2  col3\n",
       "0     1     2     3"
      ]
     },
     "execution_count": 12,
     "metadata": {},
     "output_type": "execute_result"
    }
   ],
   "source": [
    "test_df"
   ]
  },
  {
   "cell_type": "markdown",
   "metadata": {},
   "source": [
    "Another option is to specify \"-h\" and a number, which will show the head of the DataFrame with the number of rows specified by the option, but store the entire DataFrame into the specified variable."
   ]
  },
  {
   "cell_type": "code",
   "execution_count": 13,
   "metadata": {
    "ExecuteTime": {
     "end_time": "2016-11-08T17:33:24.645433",
     "start_time": "2016-11-08T17:33:24.608991"
    },
    "collapsed": false
   },
   "outputs": [
    {
     "data": {
      "text/html": [
       "<div>\n",
       "<table border=\"1\" class=\"dataframe\">\n",
       "  <thead>\n",
       "    <tr style=\"text-align: right;\">\n",
       "      <th></th>\n",
       "      <th>generate_series</th>\n",
       "    </tr>\n",
       "  </thead>\n",
       "  <tbody>\n",
       "    <tr>\n",
       "      <th>0</th>\n",
       "      <td>1</td>\n",
       "    </tr>\n",
       "    <tr>\n",
       "      <th>1</th>\n",
       "      <td>2</td>\n",
       "    </tr>\n",
       "    <tr>\n",
       "      <th>2</th>\n",
       "      <td>3</td>\n",
       "    </tr>\n",
       "    <tr>\n",
       "      <th>3</th>\n",
       "      <td>4</td>\n",
       "    </tr>\n",
       "    <tr>\n",
       "      <th>4</th>\n",
       "      <td>5</td>\n",
       "    </tr>\n",
       "    <tr>\n",
       "      <th>5</th>\n",
       "      <td>6</td>\n",
       "    </tr>\n",
       "    <tr>\n",
       "      <th>6</th>\n",
       "      <td>7</td>\n",
       "    </tr>\n",
       "    <tr>\n",
       "      <th>7</th>\n",
       "      <td>8</td>\n",
       "    </tr>\n",
       "    <tr>\n",
       "      <th>8</th>\n",
       "      <td>9</td>\n",
       "    </tr>\n",
       "    <tr>\n",
       "      <th>9</th>\n",
       "      <td>10</td>\n",
       "    </tr>\n",
       "  </tbody>\n",
       "</table>\n",
       "</div>"
      ],
      "text/plain": [
       "   generate_series\n",
       "0                1\n",
       "1                2\n",
       "2                3\n",
       "3                4\n",
       "4                5\n",
       "5                6\n",
       "6                7\n",
       "7                8\n",
       "8                9\n",
       "9               10"
      ]
     },
     "metadata": {},
     "output_type": "display_data"
    }
   ],
   "source": [
    "%%readsql -h 10 df_head\n",
    "SELECT generate_series(1, 20);"
   ]
  },
  {
   "cell_type": "code",
   "execution_count": 14,
   "metadata": {
    "ExecuteTime": {
     "end_time": "2016-11-08T17:33:25.038250",
     "start_time": "2016-11-08T17:33:24.999989"
    },
    "collapsed": false
   },
   "outputs": [
    {
     "data": {
      "text/html": [
       "<div>\n",
       "<table border=\"1\" class=\"dataframe\">\n",
       "  <thead>\n",
       "    <tr style=\"text-align: right;\">\n",
       "      <th></th>\n",
       "      <th>generate_series</th>\n",
       "    </tr>\n",
       "  </thead>\n",
       "  <tbody>\n",
       "    <tr>\n",
       "      <th>0</th>\n",
       "      <td>1</td>\n",
       "    </tr>\n",
       "    <tr>\n",
       "      <th>1</th>\n",
       "      <td>2</td>\n",
       "    </tr>\n",
       "    <tr>\n",
       "      <th>2</th>\n",
       "      <td>3</td>\n",
       "    </tr>\n",
       "    <tr>\n",
       "      <th>3</th>\n",
       "      <td>4</td>\n",
       "    </tr>\n",
       "    <tr>\n",
       "      <th>4</th>\n",
       "      <td>5</td>\n",
       "    </tr>\n",
       "    <tr>\n",
       "      <th>5</th>\n",
       "      <td>6</td>\n",
       "    </tr>\n",
       "    <tr>\n",
       "      <th>6</th>\n",
       "      <td>7</td>\n",
       "    </tr>\n",
       "    <tr>\n",
       "      <th>7</th>\n",
       "      <td>8</td>\n",
       "    </tr>\n",
       "    <tr>\n",
       "      <th>8</th>\n",
       "      <td>9</td>\n",
       "    </tr>\n",
       "    <tr>\n",
       "      <th>9</th>\n",
       "      <td>10</td>\n",
       "    </tr>\n",
       "    <tr>\n",
       "      <th>10</th>\n",
       "      <td>11</td>\n",
       "    </tr>\n",
       "    <tr>\n",
       "      <th>11</th>\n",
       "      <td>12</td>\n",
       "    </tr>\n",
       "    <tr>\n",
       "      <th>12</th>\n",
       "      <td>13</td>\n",
       "    </tr>\n",
       "    <tr>\n",
       "      <th>13</th>\n",
       "      <td>14</td>\n",
       "    </tr>\n",
       "    <tr>\n",
       "      <th>14</th>\n",
       "      <td>15</td>\n",
       "    </tr>\n",
       "    <tr>\n",
       "      <th>15</th>\n",
       "      <td>16</td>\n",
       "    </tr>\n",
       "    <tr>\n",
       "      <th>16</th>\n",
       "      <td>17</td>\n",
       "    </tr>\n",
       "    <tr>\n",
       "      <th>17</th>\n",
       "      <td>18</td>\n",
       "    </tr>\n",
       "    <tr>\n",
       "      <th>18</th>\n",
       "      <td>19</td>\n",
       "    </tr>\n",
       "    <tr>\n",
       "      <th>19</th>\n",
       "      <td>20</td>\n",
       "    </tr>\n",
       "  </tbody>\n",
       "</table>\n",
       "</div>"
      ],
      "text/plain": [
       "    generate_series\n",
       "0                 1\n",
       "1                 2\n",
       "2                 3\n",
       "3                 4\n",
       "4                 5\n",
       "5                 6\n",
       "6                 7\n",
       "7                 8\n",
       "8                 9\n",
       "9                10\n",
       "10               11\n",
       "11               12\n",
       "12               13\n",
       "13               14\n",
       "14               15\n",
       "15               16\n",
       "16               17\n",
       "17               18\n",
       "18               19\n",
       "19               20"
      ]
     },
     "execution_count": 14,
     "metadata": {},
     "output_type": "execute_result"
    }
   ],
   "source": [
    "df_head"
   ]
  },
  {
   "cell_type": "markdown",
   "metadata": {},
   "source": [
    "## Using Variable Table Names"
   ]
  },
  {
   "cell_type": "markdown",
   "metadata": {
    "ExecuteTime": {
     "end_time": "2016-10-25T13:14:20.658598",
     "start_time": "2016-10-25T13:14:20.628562"
    }
   },
   "source": [
    "We can also use variable table or column names in our commands. We simply create a variable beforehand. This variable, when wrapped inside '{' and '}' in our magic function executions, will be replaced by its value. We can view the SQL query that will be executed by using the magic command '%%printsql'"
   ]
  },
  {
   "cell_type": "code",
   "execution_count": 15,
   "metadata": {
    "ExecuteTime": {
     "end_time": "2016-11-08T17:33:27.414412",
     "start_time": "2016-11-08T17:33:27.384878"
    },
    "collapsed": true
   },
   "outputs": [],
   "source": [
    "table_name = 'example_data_table'"
   ]
  },
  {
   "cell_type": "code",
   "execution_count": 16,
   "metadata": {
    "ExecuteTime": {
     "end_time": "2016-11-08T17:33:27.725042",
     "start_time": "2016-11-08T17:33:27.689010"
    },
    "collapsed": false,
    "scrolled": true
   },
   "outputs": [
    {
     "data": {
      "text/html": [
       "<div>\n",
       "<table border=\"1\" class=\"dataframe\">\n",
       "  <thead>\n",
       "    <tr style=\"text-align: right;\">\n",
       "      <th></th>\n",
       "      <th>col1</th>\n",
       "      <th>col2</th>\n",
       "      <th>col3</th>\n",
       "    </tr>\n",
       "  </thead>\n",
       "  <tbody>\n",
       "    <tr>\n",
       "      <th>0</th>\n",
       "      <td>1</td>\n",
       "      <td>2</td>\n",
       "      <td>3</td>\n",
       "    </tr>\n",
       "  </tbody>\n",
       "</table>\n",
       "</div>"
      ],
      "text/plain": [
       "   col1  col2  col3\n",
       "0     1     2     3"
      ]
     },
     "metadata": {},
     "output_type": "display_data"
    }
   ],
   "source": [
    "%%readsql\n",
    "SELECT *\n",
    "  FROM {table_name};"
   ]
  },
  {
   "cell_type": "code",
   "execution_count": 17,
   "metadata": {
    "ExecuteTime": {
     "end_time": "2016-11-08T17:33:28.158252",
     "start_time": "2016-11-08T17:33:28.128285"
    },
    "collapsed": false
   },
   "outputs": [
    {
     "name": "stdout",
     "output_type": "stream",
     "text": [
      "SELECT *\n",
      "  FROM example_data_table;\n"
     ]
    }
   ],
   "source": [
    "%%printsql\n",
    "SELECT *\n",
    "  FROM {table_name};"
   ]
  },
  {
   "cell_type": "code",
   "execution_count": 18,
   "metadata": {
    "ExecuteTime": {
     "end_time": "2016-11-08T17:33:28.846178",
     "start_time": "2016-11-08T17:33:28.816671"
    },
    "collapsed": true
   },
   "outputs": [],
   "source": [
    "col_name = 'col1'"
   ]
  },
  {
   "cell_type": "code",
   "execution_count": 19,
   "metadata": {
    "ExecuteTime": {
     "end_time": "2016-11-08T17:33:33.722256",
     "start_time": "2016-11-08T17:33:33.688695"
    },
    "collapsed": false
   },
   "outputs": [
    {
     "data": {
      "text/html": [
       "<div>\n",
       "<table border=\"1\" class=\"dataframe\">\n",
       "  <thead>\n",
       "    <tr style=\"text-align: right;\">\n",
       "      <th></th>\n",
       "      <th>col1</th>\n",
       "    </tr>\n",
       "  </thead>\n",
       "  <tbody>\n",
       "    <tr>\n",
       "      <th>0</th>\n",
       "      <td>1</td>\n",
       "    </tr>\n",
       "  </tbody>\n",
       "</table>\n",
       "</div>"
      ],
      "text/plain": [
       "   col1\n",
       "0     1"
      ]
     },
     "metadata": {},
     "output_type": "display_data"
    }
   ],
   "source": [
    "%%readsql\n",
    "SELECT {col_name}\n",
    "  FROM example_data_table;"
   ]
  },
  {
   "cell_type": "code",
   "execution_count": 20,
   "metadata": {
    "ExecuteTime": {
     "end_time": "2016-11-08T17:33:37.352117",
     "start_time": "2016-11-08T17:33:37.322102"
    },
    "collapsed": false
   },
   "outputs": [
    {
     "name": "stdout",
     "output_type": "stream",
     "text": [
      "SELECT col1\n",
      "  FROM example_data_table;\n"
     ]
    }
   ],
   "source": [
    "%%printsql\n",
    "SELECT {col_name}\n",
    "  FROM example_data_table;"
   ]
  }
 ],
 "metadata": {
  "anaconda-cloud": {},
  "kernelspec": {
   "display_name": "Python [Root]",
   "language": "python",
   "name": "Python [Root]"
  },
  "language_info": {
   "codemirror_mode": {
    "name": "ipython",
    "version": 2
   },
   "file_extension": ".py",
   "mimetype": "text/x-python",
   "name": "python",
   "nbconvert_exporter": "python",
   "pygments_lexer": "ipython2",
   "version": "2.7.12"
  },
  "nav_menu": {},
  "toc": {
   "navigate_menu": true,
   "number_sections": true,
   "sideBar": true,
   "threshold": 6,
   "toc_cell": false,
   "toc_section_display": "block",
   "toc_window_display": true
  }
 },
 "nbformat": 4,
 "nbformat_minor": 0
}

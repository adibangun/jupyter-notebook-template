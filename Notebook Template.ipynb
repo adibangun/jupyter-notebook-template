{
 "cells": [
  {
   "cell_type": "markdown",
   "metadata": {},
   "source": [
    "Links to other notebooks in the same folder:\n",
    "<a href='http://pivotal.io/data-science'><img src='https://raw.githubusercontent.com/crawles/Logos/master/Pivotal_TealOnWhite.png' width='200px' align='right'></a>\n",
    "\n",
    "<nav class = \"navbar navbar-light bg-faded\">\n",
    "    <ul class = \"nav navbar-nav\">\n",
    "        <li class = \"\">\n",
    "            <a class = \"nav-link\">notebook1</a>\n",
    "        </li>\n",
    "        <li class = \"\">\n",
    "            <a class = \"nav-link\">notebook2</a>\n",
    "        </li>\n",
    "        <li class = \"\">\n",
    "            <a class = \"nav-link\">notebook3</a>\n",
    "        </li>\n",
    "        "
   ]
  },
  {
   "cell_type": "markdown",
   "metadata": {
    "toc": "true"
   },
   "source": [
    "# Table of Contents\n",
    " <p><div class=\"lev1 toc-item\"><a href=\"#Import-Useful-Libraries\" data-toc-modified-id=\"Import-Useful-Libraries-1\"><span class=\"toc-item-num\">1&nbsp;&nbsp;</span>Import Useful Libraries</a></div><div class=\"lev1 toc-item\"><a href=\"#Connect-to-Database\" data-toc-modified-id=\"Connect-to-Database-2\"><span class=\"toc-item-num\">2&nbsp;&nbsp;</span>Connect to Database</a></div><div class=\"lev1 toc-item\"><a href=\"#Autofill-Table-Names\" data-toc-modified-id=\"Autofill-Table-Names-3\"><span class=\"toc-item-num\">3&nbsp;&nbsp;</span>Autofill Table Names</a></div><div class=\"lev1 toc-item\"><a href=\"#Thread-Manager\" data-toc-modified-id=\"Thread-Manager-4\"><span class=\"toc-item-num\">4&nbsp;&nbsp;</span>Thread Manager</a></div><div class=\"lev1 toc-item\"><a href=\"#Magic-Functions-Useful-for-Interacting-with-the-Cluster\" data-toc-modified-id=\"Magic-Functions-Useful-for-Interacting-with-the-Cluster-5\"><span class=\"toc-item-num\">5&nbsp;&nbsp;</span>Magic Functions Useful for Interacting with the Cluster</a></div>"
   ]
  },
  {
   "cell_type": "markdown",
   "metadata": {},
   "source": [
    "# Import Useful Libraries"
   ]
  },
  {
   "cell_type": "code",
   "execution_count": null,
   "metadata": {
    "ExecuteTime": {
     "end_time": "2017-04-21T12:32:37.962534Z",
     "start_time": "2017-04-21T12:32:36.942313Z"
    },
    "collapsed": false
   },
   "outputs": [],
   "source": [
    "from datetime import datetime\n",
    "from dateutil.relativedelta import relativedelta\n",
    "import getopt\n",
    "import os\n",
    "import sys\n",
    "from textwrap import dedent\n",
    "import threading\n",
    "import time\n",
    "import urllib\n",
    "\n",
    "from IPython.core.display import display, HTML\n",
    "from IPython.core.magic import register_cell_magic, register_line_cell_magic, register_line_magic\n",
    "# If we want to move the graph\n",
    "# %matplotlib notebook\n",
    "%matplotlib inline\n",
    "import matplotlib.pyplot as plt\n",
    "import numpy as np\n",
    "import pandas as pd\n",
    "import pandas.io.sql as psql\n",
    "import psycopg2\n",
    "import seaborn as sns\n",
    "\n",
    "# Credentials file to connect to database\n",
    "import credentials\n",
    "from mpp_plotting_functions import *\n",
    "from sql_functions import *"
   ]
  },
  {
   "cell_type": "code",
   "execution_count": null,
   "metadata": {
    "ExecuteTime": {
     "end_time": "2017-04-21T12:32:38.045371Z",
     "start_time": "2017-04-21T12:32:37.963999Z"
    },
    "collapsed": false
   },
   "outputs": [],
   "source": [
    "# Changes logo to a Pivotal logo\n",
    "jPrefs = urllib.urlopen(\"https://raw.githubusercontent.com/crawles/Logos/master/jupyterPrefs.js\").read()\n",
    "HTML('<script>{}</script>'.format(jPrefs))"
   ]
  },
  {
   "cell_type": "code",
   "execution_count": null,
   "metadata": {
    "ExecuteTime": {
     "end_time": "2017-04-21T12:32:38.055833Z",
     "start_time": "2017-04-21T12:32:38.047089Z"
    },
    "collapsed": false
   },
   "outputs": [],
   "source": [
    "# Set default cell width\n",
    "display(HTML('<style>.container {width:80% !important;}</style>'))\n",
    "\n",
    "# Set default matplotlib settings\n",
    "plt.rcParams['figure.figsize'] = (10, 7)\n",
    "plt.rcParams['lines.linewidth'] = 3\n",
    "plt.rcParams['figure.titlesize'] = 26\n",
    "plt.rcParams['axes.labelsize'] = 18\n",
    "plt.rcParams['axes.titlesize'] = 22\n",
    "plt.rcParams['xtick.labelsize'] = 14\n",
    "plt.rcParams['ytick.labelsize'] = 14\n",
    "plt.rcParams['legend.fontsize'] = 16\n",
    "\n",
    "# Set seaborn colours\n",
    "blue, green, red, purple, yellow, cyan = sns.color_palette()"
   ]
  },
  {
   "cell_type": "markdown",
   "metadata": {},
   "source": [
    "# Connect to Database"
   ]
  },
  {
   "cell_type": "code",
   "execution_count": null,
   "metadata": {
    "ExecuteTime": {
     "end_time": "2017-04-21T12:32:38.117348Z",
     "start_time": "2017-04-21T12:32:38.057164Z"
    },
    "collapsed": false
   },
   "outputs": [],
   "source": [
    "conn = psycopg2.connect(**credentials.login_info_dict)\n",
    "conn.autocommit = True\n",
    "\n",
    "# Set the schema name\n",
    "schema_name = 'template'\n",
    "psql.execute('SET search_path TO {}'.format(schema_name), conn)"
   ]
  },
  {
   "cell_type": "markdown",
   "metadata": {},
   "source": [
    "# Autofill Table Names\n",
    "One downside of interacting with a remote database in Python is that table names will not be imported in. When this is run, it will import all of the schema names as classes and their respective table names as variables. That way, when we type a schema name, we can use tab completion to list out all of its columns."
   ]
  },
  {
   "cell_type": "code",
   "execution_count": null,
   "metadata": {
    "ExecuteTime": {
     "end_time": "2017-04-21T12:32:38.125829Z",
     "start_time": "2017-04-21T12:32:38.119224Z"
    },
    "collapsed": true
   },
   "outputs": [],
   "source": [
    "class Schema:\n",
    "    def __init__(self, tables):\n",
    "        for t in tables:\n",
    "            exec('self.{t} = \"{t}\"'.format(t=t))\n",
    "\n",
    "def refresh_tables(conn):\n",
    "    \"\"\"Refreshes the auto-fill tables.\"\"\"\n",
    "    sql = '''\n",
    "    SELECT table_schema, array_agg(table_name::TEXT) AS tables\n",
    "      FROM information_schema.tables\n",
    "     GROUP BY table_schema;\n",
    "    '''\n",
    "    info_df = psql.read_sql(sql, conn)\n",
    "\n",
    "    for row in info_df.iterrows():\n",
    "        command = '''\n",
    "        global {s}\n",
    "        {s} = Schema({tables})\n",
    "        '''.format(s=row[1][0], tables=row[1][1])\n",
    "        exec(dedent(command))"
   ]
  },
  {
   "cell_type": "markdown",
   "metadata": {},
   "source": [
    "# Thread Manager\n",
    "This class provides a framework to manage concurrent threads. The `%%background` magic function will automatically call the `ThreadManager` when opening and close threads. We can use the `ThreadManager` to view all current and past threads including start and finish times and any comments associated to the threads."
   ]
  },
  {
   "cell_type": "code",
   "execution_count": null,
   "metadata": {
    "ExecuteTime": {
     "end_time": "2017-04-21T12:32:38.156745Z",
     "start_time": "2017-04-21T12:32:38.126987Z"
    },
    "collapsed": false
   },
   "outputs": [],
   "source": [
    "class ThreadManager:\n",
    "    def __init__(self):\n",
    "        self.thread_df = pd.DataFrame(columns=['start_time', 'finish_time', 'exec_time', 'comment'])\n",
    "        \n",
    "    def add_thread(self, comment='N/A'):\n",
    "        thread_id = self.get_next_thread_id()\n",
    "        start_time = datetime.now()\n",
    "        self.thread_df.loc[thread_id] = [start_time, '', '', comment]\n",
    "        print 'Started Thread {} at {}.\\nComment: {}'.format(thread_id, start_time, comment)\n",
    "        \n",
    "    def finish_thread(self, thread_id):\n",
    "        if self.thread_df.loc[thread_id, 'finish_time'] == '':\n",
    "            # Set finish time\n",
    "            finish_time = datetime.now()\n",
    "            self.thread_df.loc[thread_id, 'finish_time'] = finish_time\n",
    "            \n",
    "            # Set execution time\n",
    "            exec_time = finish_time - self.thread_df.loc[thread_id, 'start_time']\n",
    "            self.thread_df.loc[thread_id, 'exec_time'] = exec_time\n",
    "            \n",
    "            # Print comment\n",
    "            comment = str(self.thread_df.loc[thread_id, 'comment'])\n",
    "            print 'Finished Thread {} at {}.\\nDone in {}.\\nComment: {}'.format(thread_id, finish_time, exec_time, comment)\n",
    "                        \n",
    "        else:\n",
    "            raise Exception('Cannot finish an already completed thread.')\n",
    "        \n",
    "    def raise_thread_error(self, thread_id, error_message):\n",
    "        if self.thread_df.loc[thread_id, 'finish_time'] == '':\n",
    "            self.thread_df.loc[thread_id, 'finish_time'] = 'Exception: {}'.format(error_message)\n",
    "            self.thread_df.loc[thread_id, 'exec_time'] = 'Exception: {}'.format(error_message)\n",
    "        \n",
    "    def get_next_thread_id(self):\n",
    "        return self.thread_df.shape[0]\n",
    "        \n",
    "    def get_history(self):\n",
    "        return self.thread_df\n",
    "    \n",
    "    def get_finished_threads(self):\n",
    "        return self.thread_df[self.thread_df['finish_time'] != '']\n",
    "\n",
    "    def get_unfinished_threads(self):\n",
    "        return self.thread_df[self.thread_df['finish_time'] == '']\n",
    "    \n",
    "thread_manager = ThreadManager()"
   ]
  },
  {
   "cell_type": "markdown",
   "metadata": {
    "ExecuteTime": {
     "end_time": "2016-10-04T16:32:23.703993",
     "start_time": "2016-10-04T16:32:23.693514"
    }
   },
   "source": [
    "# Magic Functions Useful for Interacting with the Cluster\n",
    "These functions allow us to type write and run raw SQL a cell with the magic function at the top."
   ]
  },
  {
   "cell_type": "code",
   "execution_count": null,
   "metadata": {
    "ExecuteTime": {
     "end_time": "2017-04-21T12:32:38.263860Z",
     "start_time": "2017-04-21T12:32:38.158250Z"
    },
    "code_folding": [
     1,
     65
    ],
    "collapsed": false
   },
   "outputs": [],
   "source": [
    "@register_cell_magic\n",
    "def readsql(line, cell):\n",
    "    \"\"\"\n",
    "    Extract the code in the specific cell (should be valid SQL), \n",
    "    and execute it using the connection object to the backend \n",
    "    database. The resulting pandas DataFrame is rendered inline \n",
    "    below the cell using IPython.display. You'd use this for SELECT.\n",
    "    \n",
    "    Returns a DataFrame with the name specified in the magic\n",
    "    function. If this is not specified, then the DataFrame\n",
    "    is called _df. This also takes in an option \"-h\", followed \n",
    "    by a number. This will show only the specified number of rows\n",
    "    in the DataFrame.\n",
    "    \"\"\"\n",
    "    \n",
    "    # Use the global connection object defined above.\n",
    "    global conn\n",
    "    optlist, args = getopt.getopt(line.split(), 'ih:')\n",
    "    optdict = dict(optlist) \n",
    "    # If '-h' tag is specified, set the number of rows to display\n",
    "    if '-h' in optdict:\n",
    "        head_num = int(optdict['-h'])\n",
    "    \n",
    "    # Do string formatting. If a PL/Python function\n",
    "    # is being created, then it should not try and\n",
    "    # format whatever is inside the function.\n",
    "    split_cell = cell.split('$')\n",
    "    if '-i' not in optdict:\n",
    "        if len(split_cell) > 1:\n",
    "            split_cell[0] = split_cell[0].format(**globals())\n",
    "            split_cell[-1] = split_cell[-1].format(**globals())\n",
    "            cell = '$'.join(split_cell)\n",
    "        elif len(split_cell) == 1:\n",
    "            cell = cell.format(**globals()) \n",
    "    \n",
    "    # If there is more than one table name specified,\n",
    "    # throw an exception.\n",
    "    if len(args) > 1:\n",
    "        raise Exception('More than one table name specified.')\n",
    "\n",
    "    elif len(args) == 1:\n",
    "        # If a table name is specified, store it as that\n",
    "        table_name = args[0]\n",
    "        globals()[table_name] = psql.read_sql(cell, conn)\n",
    "        if '-h' in optdict:\n",
    "            # If head_num is not 0, then display rows\n",
    "            if head_num != 0:\n",
    "                display(globals()[table_name].head(int(optdict['-h'])))\n",
    "        else:\n",
    "            display(globals()[table_name])\n",
    "\n",
    "    else:\n",
    "        # Otherwise, call it _df\n",
    "        global _df\n",
    "        _df = psql.read_sql(cell, conn)\n",
    "        if '-h' in optdict:\n",
    "            # If head_num is not 0, then display rows\n",
    "            if head_num != 0:\n",
    "                display(_df.head(head_num))\n",
    "        else:\n",
    "            display(_df)\n",
    "            \n",
    "    refresh_tables(conn)\n",
    "\n",
    "@register_cell_magic\n",
    "def execsql(line, cell):\n",
    "    \"\"\"\n",
    "    Extract the code in the specific cell (should be valid SQL),\n",
    "    and execute it using the connection object to the backend \n",
    "    database. You'd use this for CREATE/UPDATE/DELETE.\n",
    "    \"\"\"\n",
    "    \n",
    "    # Use the global connection object defined above.\n",
    "    global conn\n",
    "    optlist, args = getopt.getopt(line.split(), 'ih:')\n",
    "    optdict = dict(optlist)\n",
    "    \n",
    "    # Do string formatting. If a PL/Python function\n",
    "    # is being created, then it should not try and\n",
    "    # format whatever is inside the function.\n",
    "    split_cell = cell.split('$')\n",
    "    if '-i' not in optdict:\n",
    "        if len(split_cell) > 1:\n",
    "            split_cell[0] = split_cell[0].format(**globals())\n",
    "            split_cell[-1] = split_cell[-1].format(**globals())\n",
    "            cell = '$'.join(split_cell)\n",
    "        elif len(split_cell) == 1:\n",
    "            cell = cell.format(**globals())\n",
    "    psql.execute(cell, conn)\n",
    "    refresh_tables(conn)\n",
    "\n",
    "@register_cell_magic\n",
    "def printsql(line, cell):\n",
    "    \"\"\"Show the SQL query that will be run.\"\"\"\n",
    "    \n",
    "    optlist, args = getopt.getopt(line.split(), 'ih:')\n",
    "    optdict = dict(optlist)\n",
    "    \n",
    "    # Do string formatting. If a PL/Python function\n",
    "    # is being created, then it should not try and\n",
    "    # format whatever is inside the function.\n",
    "    split_cell = cell.split('$')\n",
    "    if '-i' not in optdict:\n",
    "        if len(split_cell) > 1:\n",
    "            split_cell[0] = split_cell[0].format(**globals())\n",
    "            split_cell[-1] = split_cell[-1].format(**globals())\n",
    "            cell = '$'.join(split_cell)\n",
    "        elif len(split_cell) == 1:\n",
    "            cell = cell.format(**globals())\n",
    "    print cell\n",
    "    \n",
    "@register_cell_magic\n",
    "def background(line, cell):\n",
    "    \"\"\"\n",
    "    Runs whatever is in the cell in a separate thread.\n",
    "    This allows the user to run cells in the background\n",
    "    so that additional cells can be run concurrently. This\n",
    "    will also micromanage by labelling each thread with an\n",
    "    id number.\n",
    "    \n",
    "    Whatever follows after specifying '%%background' will\n",
    "    be used as a comment to label the process if the id\n",
    "    number is not descriptive enough.\n",
    "    \"\"\"\n",
    "    def run_cell(cell_value):\n",
    "        thread_id = thread_manager.get_next_thread_id()\n",
    "        if len(line) > 0:\n",
    "            thread_manager.add_thread(comment=str(line))\n",
    "        else:\n",
    "            thread_manager.add_thread()\n",
    "            \n",
    "        try:\n",
    "            exec cell_value in globals()\n",
    "        except Exception as error_message:\n",
    "            thread_manager.raise_thread_error(thread_id, error_message)\n",
    "            raise Exception(error_message)\n",
    "            \n",
    "        thread_manager.finish_thread(thread_id)\n",
    "        \n",
    "    thread = threading.Thread(target=run_cell, args=(cell, ))\n",
    "    thread.start()\n",
    "\n",
    "# We delete these to avoid name conflicts for automagic to work\n",
    "del execsql, readsql, printsql, background"
   ]
  }
 ],
 "metadata": {
  "anaconda-cloud": {},
  "hide_input": false,
  "kernelspec": {
   "display_name": "Python [default]",
   "language": "python",
   "name": "python2"
  },
  "language_info": {
   "codemirror_mode": {
    "name": "ipython",
    "version": 2
   },
   "file_extension": ".py",
   "mimetype": "text/x-python",
   "name": "python",
   "nbconvert_exporter": "python",
   "pygments_lexer": "ipython2",
   "version": "2.7.12"
  },
  "nav_menu": {},
  "toc": {
   "colors": {
    "hover_highlight": "#DAA520",
    "running_highlight": "#FF0000",
    "selected_highlight": "#FFD700"
   },
   "moveMenuLeft": true,
   "nav_menu": {
    "height": "102px",
    "width": "252px"
   },
   "navigate_menu": true,
   "number_sections": true,
   "sideBar": true,
   "threshold": 4,
   "toc_cell": true,
   "toc_section_display": "block",
   "toc_window_display": true,
   "widenNotebook": false
  },
  "toc_position": {
   "height": "982px",
   "left": "0px",
   "right": "auto",
   "top": "106px",
   "width": "212px"
  }
 },
 "nbformat": 4,
 "nbformat_minor": 0
}
